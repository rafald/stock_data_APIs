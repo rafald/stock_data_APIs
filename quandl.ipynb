{
 "metadata": {
  "language_info": {
   "codemirror_mode": {
    "name": "ipython",
    "version": 3
   },
   "file_extension": ".py",
   "mimetype": "text/x-python",
   "name": "python",
   "nbconvert_exporter": "python",
   "pygments_lexer": "ipython3",
   "version": "3.8.1-final"
  },
  "orig_nbformat": 2,
  "kernelspec": {
   "name": "python38164bitjupyterconda0d2bd17282c3412786608206568a1d2b",
   "display_name": "Python 3.8.1 64-bit ('jupyter': conda)"
  }
 },
 "nbformat": 4,
 "nbformat_minor": 2,
 "cells": [
  {
   "cell_type": "code",
   "execution_count": 1,
   "metadata": {
    "tags": []
   },
   "outputs": [
    {
     "output_type": "stream",
     "name": "stderr",
     "text": "\nBad key \"text.kerning_factor\" on line 4 in\n/home/raf/.local/bin/miniconda3/envs/jupyter/lib/python3.8/site-packages/matplotlib/mpl-data/stylelib/_classic_test_patch.mplstyle.\nYou probably need to get an updated matplotlibrc file from\nhttps://github.com/matplotlib/matplotlib/blob/v3.1.3/matplotlibrc.template\nor from the matplotlib source distribution\n"
    }
   ],
   "source": [
    "import pandas as pd\n",
    "import numpy as np\n",
    "#from pprint import pprint\n",
    "import matplotlib.pyplot as plt\n",
    "\n",
    "import warnings\n",
    "warnings.filterwarnings(\"once\")"
   ]
  },
  {
   "cell_type": "markdown",
   "metadata": {},
   "source": [
    "https://www.quandl.com/\n",
    "\n",
    "https://pypi.org/project/?\n"
   ]
  },
  {
   "cell_type": "code",
   "execution_count": 2,
   "metadata": {
    "tags": []
   },
   "outputs": [
    {
     "output_type": "stream",
     "name": "stdout",
     "text": "Collecting quandl\n  Downloading Quandl-3.5.2-py2.py3-none-any.whl (25 kB)\nRequirement already satisfied, skipping upgrade: requests>=2.7.0 in /home/raf/.local/bin/miniconda3/envs/jupyter/lib/python3.8/site-packages (from quandl) (2.23.0)\nRequirement already satisfied, skipping upgrade: pandas>=0.14 in /home/raf/.local/bin/miniconda3/envs/jupyter/lib/python3.8/site-packages (from quandl) (0.25.3)\nRequirement already satisfied, skipping upgrade: six in /home/raf/.local/bin/miniconda3/envs/jupyter/lib/python3.8/site-packages (from quandl) (1.14.0)\nRequirement already satisfied, skipping upgrade: more-itertools in /home/raf/.local/bin/miniconda3/envs/jupyter/lib/python3.8/site-packages (from quandl) (8.2.0)\nRequirement already satisfied, skipping upgrade: inflection>=0.3.1 in /home/raf/.local/bin/miniconda3/envs/jupyter/lib/python3.8/site-packages (from quandl) (0.3.1)\nRequirement already satisfied, skipping upgrade: numpy>=1.8 in /home/raf/.local/bin/miniconda3/envs/jupyter/lib/python3.8/site-packages (from quandl) (1.18.1)\nRequirement already satisfied, skipping upgrade: python-dateutil in /home/raf/.local/bin/miniconda3/envs/jupyter/lib/python3.8/site-packages (from quandl) (2.8.1)\nRequirement already satisfied, skipping upgrade: chardet<4,>=3.0.2 in /home/raf/.local/bin/miniconda3/envs/jupyter/lib/python3.8/site-packages (from requests>=2.7.0->quandl) (3.0.4)\nRequirement already satisfied, skipping upgrade: certifi>=2017.4.17 in /home/raf/.local/bin/miniconda3/envs/jupyter/lib/python3.8/site-packages (from requests>=2.7.0->quandl) (2020.6.20)\nRequirement already satisfied, skipping upgrade: urllib3!=1.25.0,!=1.25.1,<1.26,>=1.21.1 in /home/raf/.local/bin/miniconda3/envs/jupyter/lib/python3.8/site-packages (from requests>=2.7.0->quandl) (1.25.8)\nRequirement already satisfied, skipping upgrade: idna<3,>=2.5 in /home/raf/.local/bin/miniconda3/envs/jupyter/lib/python3.8/site-packages (from requests>=2.7.0->quandl) (2.8)\nRequirement already satisfied, skipping upgrade: pytz>=2017.2 in /home/raf/.local/bin/miniconda3/envs/jupyter/lib/python3.8/site-packages (from pandas>=0.14->quandl) (2019.3)\nInstalling collected packages: quandl\n  Attempting uninstall: quandl\n    Found existing installation: Quandl 3.5.0\n    Uninstalling Quandl-3.5.0:\n      Successfully uninstalled Quandl-3.5.0\nSuccessfully installed quandl-3.5.2\n"
    }
   ],
   "source": [
    "#!conda install -n jupyter quandl\n",
    "!pip install quandl --upgrade --no-cache-dir"
   ]
  },
  {
   "cell_type": "code",
   "execution_count": 3,
   "metadata": {},
   "outputs": [],
   "source": [
    "import quandl"
   ]
  },
  {
   "cell_type": "code",
   "execution_count": 4,
   "metadata": {
    "tags": []
   },
   "outputs": [
    {
     "output_type": "stream",
     "name": "stderr",
     "text": "/home/raf/.local/bin/miniconda3/envs/jupyter/lib/python3.8/site-packages/quandl/model/dataset.py:47: ResourceWarning: unclosed <socket.socket fd=45, family=AddressFamily.AF_INET, type=SocketKind.SOCK_STREAM, proto=6, laddr=('192.168.8.126', 45092), raddr=('172.67.72.62', 443)>\n  return Data.all(**updated_options)\nResourceWarning: Enable tracemalloc to get the object allocation traceback\n"
    },
    {
     "output_type": "execute_result",
     "data": {
      "text/plain": "              Open     High      Low     Close      Volume  Ex-Dividend  \\\nDate                                                                      \n2014-01-02  555.68  557.030  552.021  553.1300   8381600.0          0.0   \n2014-01-03  552.86  553.700  540.430  540.9800  14016700.0          0.0   \n2014-01-06  537.45  546.800  533.600  543.9300  14736100.0          0.0   \n2014-01-07  544.32  545.960  537.925  540.0375  11328900.0          0.0   \n2014-01-08  538.81  545.560  538.690  543.4600   9233200.0          0.0   \n...            ...      ...      ...       ...         ...          ...   \n2017-12-22  174.68  175.424  174.500  175.0100  16052615.0          0.0   \n2017-12-26  170.80  171.470  169.679  170.5700  32968167.0          0.0   \n2017-12-27  170.10  170.780  169.710  170.6000  21672062.0          0.0   \n2017-12-28  171.00  171.850  170.480  171.0800  15997739.0          0.0   \n2017-12-29  170.52  170.590  169.220  169.2300  25643711.0          0.0   \n\n            Split Ratio   Adj. Open   Adj. High    Adj. Low  Adj. Close  \\\nDate                                                                      \n2014-01-02          1.0   73.862376   74.041821   73.376012   73.523423   \n2014-01-03          1.0   73.487534   73.599189   71.835308   71.908415   \n2014-01-06          1.0   71.439198   72.682024   70.927447   72.300536   \n2014-01-07          1.0   72.352376   72.570369   71.502337   71.783135   \n2014-01-08          1.0   71.619973   72.517200   71.604022   72.238063   \n...                 ...         ...         ...         ...         ...   \n2017-12-22          1.0  174.680000  175.424000  174.500000  175.010000   \n2017-12-26          1.0  170.800000  171.470000  169.679000  170.570000   \n2017-12-27          1.0  170.100000  170.780000  169.710000  170.600000   \n2017-12-28          1.0  171.000000  171.850000  170.480000  171.080000   \n2017-12-29          1.0  170.520000  170.590000  169.220000  169.230000   \n\n            Adj. Volume  \nDate                     \n2014-01-02   58671200.0  \n2014-01-03   98116900.0  \n2014-01-06  103152700.0  \n2014-01-07   79302300.0  \n2014-01-08   64632400.0  \n...                 ...  \n2017-12-22   16052615.0  \n2017-12-26   32968167.0  \n2017-12-27   21672062.0  \n2017-12-28   15997739.0  \n2017-12-29   25643711.0  \n\n[1005 rows x 12 columns]",
      "text/html": "<div>\n<style scoped>\n    .dataframe tbody tr th:only-of-type {\n        vertical-align: middle;\n    }\n\n    .dataframe tbody tr th {\n        vertical-align: top;\n    }\n\n    .dataframe thead th {\n        text-align: right;\n    }\n</style>\n<table border=\"1\" class=\"dataframe\">\n  <thead>\n    <tr style=\"text-align: right;\">\n      <th></th>\n      <th>Open</th>\n      <th>High</th>\n      <th>Low</th>\n      <th>Close</th>\n      <th>Volume</th>\n      <th>Ex-Dividend</th>\n      <th>Split Ratio</th>\n      <th>Adj. Open</th>\n      <th>Adj. High</th>\n      <th>Adj. Low</th>\n      <th>Adj. Close</th>\n      <th>Adj. Volume</th>\n    </tr>\n    <tr>\n      <th>Date</th>\n      <th></th>\n      <th></th>\n      <th></th>\n      <th></th>\n      <th></th>\n      <th></th>\n      <th></th>\n      <th></th>\n      <th></th>\n      <th></th>\n      <th></th>\n      <th></th>\n    </tr>\n  </thead>\n  <tbody>\n    <tr>\n      <th>2014-01-02</th>\n      <td>555.68</td>\n      <td>557.030</td>\n      <td>552.021</td>\n      <td>553.1300</td>\n      <td>8381600.0</td>\n      <td>0.0</td>\n      <td>1.0</td>\n      <td>73.862376</td>\n      <td>74.041821</td>\n      <td>73.376012</td>\n      <td>73.523423</td>\n      <td>58671200.0</td>\n    </tr>\n    <tr>\n      <th>2014-01-03</th>\n      <td>552.86</td>\n      <td>553.700</td>\n      <td>540.430</td>\n      <td>540.9800</td>\n      <td>14016700.0</td>\n      <td>0.0</td>\n      <td>1.0</td>\n      <td>73.487534</td>\n      <td>73.599189</td>\n      <td>71.835308</td>\n      <td>71.908415</td>\n      <td>98116900.0</td>\n    </tr>\n    <tr>\n      <th>2014-01-06</th>\n      <td>537.45</td>\n      <td>546.800</td>\n      <td>533.600</td>\n      <td>543.9300</td>\n      <td>14736100.0</td>\n      <td>0.0</td>\n      <td>1.0</td>\n      <td>71.439198</td>\n      <td>72.682024</td>\n      <td>70.927447</td>\n      <td>72.300536</td>\n      <td>103152700.0</td>\n    </tr>\n    <tr>\n      <th>2014-01-07</th>\n      <td>544.32</td>\n      <td>545.960</td>\n      <td>537.925</td>\n      <td>540.0375</td>\n      <td>11328900.0</td>\n      <td>0.0</td>\n      <td>1.0</td>\n      <td>72.352376</td>\n      <td>72.570369</td>\n      <td>71.502337</td>\n      <td>71.783135</td>\n      <td>79302300.0</td>\n    </tr>\n    <tr>\n      <th>2014-01-08</th>\n      <td>538.81</td>\n      <td>545.560</td>\n      <td>538.690</td>\n      <td>543.4600</td>\n      <td>9233200.0</td>\n      <td>0.0</td>\n      <td>1.0</td>\n      <td>71.619973</td>\n      <td>72.517200</td>\n      <td>71.604022</td>\n      <td>72.238063</td>\n      <td>64632400.0</td>\n    </tr>\n    <tr>\n      <th>...</th>\n      <td>...</td>\n      <td>...</td>\n      <td>...</td>\n      <td>...</td>\n      <td>...</td>\n      <td>...</td>\n      <td>...</td>\n      <td>...</td>\n      <td>...</td>\n      <td>...</td>\n      <td>...</td>\n      <td>...</td>\n    </tr>\n    <tr>\n      <th>2017-12-22</th>\n      <td>174.68</td>\n      <td>175.424</td>\n      <td>174.500</td>\n      <td>175.0100</td>\n      <td>16052615.0</td>\n      <td>0.0</td>\n      <td>1.0</td>\n      <td>174.680000</td>\n      <td>175.424000</td>\n      <td>174.500000</td>\n      <td>175.010000</td>\n      <td>16052615.0</td>\n    </tr>\n    <tr>\n      <th>2017-12-26</th>\n      <td>170.80</td>\n      <td>171.470</td>\n      <td>169.679</td>\n      <td>170.5700</td>\n      <td>32968167.0</td>\n      <td>0.0</td>\n      <td>1.0</td>\n      <td>170.800000</td>\n      <td>171.470000</td>\n      <td>169.679000</td>\n      <td>170.570000</td>\n      <td>32968167.0</td>\n    </tr>\n    <tr>\n      <th>2017-12-27</th>\n      <td>170.10</td>\n      <td>170.780</td>\n      <td>169.710</td>\n      <td>170.6000</td>\n      <td>21672062.0</td>\n      <td>0.0</td>\n      <td>1.0</td>\n      <td>170.100000</td>\n      <td>170.780000</td>\n      <td>169.710000</td>\n      <td>170.600000</td>\n      <td>21672062.0</td>\n    </tr>\n    <tr>\n      <th>2017-12-28</th>\n      <td>171.00</td>\n      <td>171.850</td>\n      <td>170.480</td>\n      <td>171.0800</td>\n      <td>15997739.0</td>\n      <td>0.0</td>\n      <td>1.0</td>\n      <td>171.000000</td>\n      <td>171.850000</td>\n      <td>170.480000</td>\n      <td>171.080000</td>\n      <td>15997739.0</td>\n    </tr>\n    <tr>\n      <th>2017-12-29</th>\n      <td>170.52</td>\n      <td>170.590</td>\n      <td>169.220</td>\n      <td>169.2300</td>\n      <td>25643711.0</td>\n      <td>0.0</td>\n      <td>1.0</td>\n      <td>170.520000</td>\n      <td>170.590000</td>\n      <td>169.220000</td>\n      <td>169.230000</td>\n      <td>25643711.0</td>\n    </tr>\n  </tbody>\n</table>\n<p>1005 rows × 12 columns</p>\n</div>"
     },
     "metadata": {},
     "execution_count": 4
    }
   ],
   "source": [
    "data = quandl.get(\"WIKI/AAPL\", start_date=\"2014-01-01\", end_date=\"2018-01-01\", api_key=quandl_TOKEN)\n",
    "data"
   ]
  }
 ]
}