{
 "metadata": {
  "language_info": {
   "codemirror_mode": {
    "name": "ipython",
    "version": 3
   },
   "file_extension": ".py",
   "mimetype": "text/x-python",
   "name": "python",
   "nbconvert_exporter": "python",
   "pygments_lexer": "ipython3",
   "version": "3.8.1-final"
  },
  "orig_nbformat": 2,
  "kernelspec": {
   "name": "python38164bitjupyterconda0d2bd17282c3412786608206568a1d2b",
   "display_name": "Python 3.8.1 64-bit ('jupyter': conda)"
  }
 },
 "nbformat": 4,
 "nbformat_minor": 2,
 "cells": [
  {
   "cell_type": "code",
   "execution_count": 1,
   "metadata": {
    "tags": []
   },
   "outputs": [
    {
     "output_type": "stream",
     "name": "stderr",
     "text": "\nBad key \"text.kerning_factor\" on line 4 in\n/home/raf/.local/bin/miniconda3/envs/jupyter/lib/python3.8/site-packages/matplotlib/mpl-data/stylelib/_classic_test_patch.mplstyle.\nYou probably need to get an updated matplotlibrc file from\nhttps://github.com/matplotlib/matplotlib/blob/v3.1.3/matplotlibrc.template\nor from the matplotlib source distribution\n"
    }
   ],
   "source": [
    "import pandas as pd\n",
    "import numpy as np\n",
    "#from pprint import pprint\n",
    "import matplotlib.pyplot as plt\n",
    "\n",
    "import warnings\n",
    "warnings.filterwarnings(\"once\")"
   ]
  },
  {
   "cell_type": "markdown",
   "metadata": {},
   "source": [
    "https://pypi.org/project/fix-yahoo-finance/\n",
    "\n",
    "yfinance does the job of scraping the data from Yahoo! finance and returning a Pandas DataFrame in the same format as pandas_datareader’s get_data_yahoo().\n",
    "\n",
    "By basically “hijacking” pandas_datareader.data.get_data_yahoo() method, fix-yahoo-finance’s implementation is easy and only requires to import fix_yahoo_finance into your code."
   ]
  },
  {
   "cell_type": "code",
   "execution_count": 22,
   "metadata": {
    "tags": []
   },
   "outputs": [
    {
     "output_type": "stream",
     "name": "stdout",
     "text": "Requirement already up-to-date: yfinance in /home/raf/.local/bin/miniconda3/envs/jupyter/lib/python3.8/site-packages (0.1.54)\nRequirement already satisfied, skipping upgrade: requests>=2.20 in /home/raf/.local/bin/miniconda3/envs/jupyter/lib/python3.8/site-packages (from yfinance) (2.23.0)\nRequirement already satisfied, skipping upgrade: numpy>=1.15 in /home/raf/.local/bin/miniconda3/envs/jupyter/lib/python3.8/site-packages (from yfinance) (1.18.1)\nRequirement already satisfied, skipping upgrade: pandas>=0.24 in /home/raf/.local/bin/miniconda3/envs/jupyter/lib/python3.8/site-packages (from yfinance) (0.25.3)\nRequirement already satisfied, skipping upgrade: multitasking>=0.0.7 in /home/raf/.local/bin/miniconda3/envs/jupyter/lib/python3.8/site-packages (from yfinance) (0.0.9)\nRequirement already satisfied, skipping upgrade: idna<3,>=2.5 in /home/raf/.local/bin/miniconda3/envs/jupyter/lib/python3.8/site-packages (from requests>=2.20->yfinance) (2.8)\nRequirement already satisfied, skipping upgrade: certifi>=2017.4.17 in /home/raf/.local/bin/miniconda3/envs/jupyter/lib/python3.8/site-packages (from requests>=2.20->yfinance) (2020.6.20)\nRequirement already satisfied, skipping upgrade: chardet<4,>=3.0.2 in /home/raf/.local/bin/miniconda3/envs/jupyter/lib/python3.8/site-packages (from requests>=2.20->yfinance) (3.0.4)\nRequirement already satisfied, skipping upgrade: urllib3!=1.25.0,!=1.25.1,<1.26,>=1.21.1 in /home/raf/.local/bin/miniconda3/envs/jupyter/lib/python3.8/site-packages (from requests>=2.20->yfinance) (1.25.8)\nRequirement already satisfied, skipping upgrade: pytz>=2017.2 in /home/raf/.local/bin/miniconda3/envs/jupyter/lib/python3.8/site-packages (from pandas>=0.24->yfinance) (2019.3)\nRequirement already satisfied, skipping upgrade: python-dateutil>=2.6.1 in /home/raf/.local/bin/miniconda3/envs/jupyter/lib/python3.8/site-packages (from pandas>=0.24->yfinance) (2.8.1)\nRequirement already satisfied, skipping upgrade: six>=1.5 in /home/raf/.local/bin/miniconda3/envs/jupyter/lib/python3.8/site-packages (from python-dateutil>=2.6.1->pandas>=0.24->yfinance) (1.14.0)\n[*********************100%***********************]  1 of 1 completed\n"
    }
   ],
   "source": [
    "#!conda install -n jupyter -c ranaroussi yfinance\n",
    "!pip install yfinance --upgrade --no-cache-dir\n",
    "\n",
    "# If your code uses pandas_datareader and you want to download data faster, you can “hijack” pandas_datareader.data.get_data_yahoo() method to use yfinance while making sure the returned data is in the same format as pandas_datareader’s get_data_yahoo().\n",
    "#import yfinance as yf\n",
    "#yf.pdr_override()\n",
    "\n",
    "# now you could\n",
    "#from pandas_datareader import data as pdr\n",
    "#data = pdr.get_data_yahoo(\"SPY\", start=\"2017-01-01\", end=\"2017-04-30\")"
   ]
  },
  {
   "cell_type": "code",
   "execution_count": 21,
   "metadata": {
    "tags": []
   },
   "outputs": [
    {
     "output_type": "stream",
     "name": "stdout",
     "text": "[*********************100%***********************]  2 of 2 completed\n"
    },
    {
     "output_type": "execute_result",
     "data": {
      "text/plain": "             Adj Close               Close                High          \\\n                  MSFT     PGE        MSFT     PGE        MSFT     PGE   \nDate                                                                     \n2017-07-31   69.315483   0.120   72.699997   0.120   73.440002   0.120   \n2017-08-01   69.201080   0.120   72.580002   0.120   73.419998   0.125   \n2017-08-02   68.895973  13.340   72.260002  13.340   72.559998  13.570   \n2017-08-03   68.791092   0.110   72.150002   0.110   72.440002   0.110   \n2017-08-04   69.296425   0.043   72.680000   0.043   73.040001   0.043   \n...                ...     ...         ...     ...         ...     ...   \n2020-07-24  201.300003     NaN  201.300003     NaN  202.860001     NaN   \n2020-07-27  203.850006     NaN  203.850006     NaN  203.970001     NaN   \n2020-07-28  202.020004     NaN  202.020004     NaN  204.699997     NaN   \n2020-07-29  204.059998     NaN  204.059998     NaN  204.649994     NaN   \n2020-07-30  203.899994     NaN  203.899994     NaN  204.460007     NaN   \n\n                   Low                Open            Volume             \n                  MSFT     PGE        MSFT     PGE      MSFT        PGE  \nDate                                                                     \n2017-07-31   72.410004   0.120   73.300003   0.120  23600100     3000.0  \n2017-08-01   72.489998   0.120   73.099998   0.120  22132300    35000.0  \n2017-08-02   71.440002  13.300   72.550003  13.300  26499200  2266377.0  \n2017-08-03   71.849998   0.110   72.190002   0.110  18214400    20000.0  \n2017-08-04   72.239998   0.043   72.400002   0.043  22579000        0.0  \n...                ...     ...         ...     ...       ...        ...  \n2020-07-24  197.509995     NaN  200.419998     NaN  39827000        NaN  \n2020-07-27  200.860001     NaN  201.470001     NaN  30160900        NaN  \n2020-07-28  201.740005     NaN  203.610001     NaN  23251400        NaN  \n2020-07-29  202.009995     NaN  202.500000     NaN  19632600        NaN  \n2020-07-30  199.570007     NaN  201.000000     NaN  25079600        NaN  \n\n[756 rows x 12 columns]",
      "text/html": "<div>\n<style scoped>\n    .dataframe tbody tr th:only-of-type {\n        vertical-align: middle;\n    }\n\n    .dataframe tbody tr th {\n        vertical-align: top;\n    }\n\n    .dataframe thead tr th {\n        text-align: left;\n    }\n\n    .dataframe thead tr:last-of-type th {\n        text-align: right;\n    }\n</style>\n<table border=\"1\" class=\"dataframe\">\n  <thead>\n    <tr>\n      <th></th>\n      <th colspan=\"2\" halign=\"left\">Adj Close</th>\n      <th colspan=\"2\" halign=\"left\">Close</th>\n      <th colspan=\"2\" halign=\"left\">High</th>\n      <th colspan=\"2\" halign=\"left\">Low</th>\n      <th colspan=\"2\" halign=\"left\">Open</th>\n      <th colspan=\"2\" halign=\"left\">Volume</th>\n    </tr>\n    <tr>\n      <th></th>\n      <th>MSFT</th>\n      <th>PGE</th>\n      <th>MSFT</th>\n      <th>PGE</th>\n      <th>MSFT</th>\n      <th>PGE</th>\n      <th>MSFT</th>\n      <th>PGE</th>\n      <th>MSFT</th>\n      <th>PGE</th>\n      <th>MSFT</th>\n      <th>PGE</th>\n    </tr>\n    <tr>\n      <th>Date</th>\n      <th></th>\n      <th></th>\n      <th></th>\n      <th></th>\n      <th></th>\n      <th></th>\n      <th></th>\n      <th></th>\n      <th></th>\n      <th></th>\n      <th></th>\n      <th></th>\n    </tr>\n  </thead>\n  <tbody>\n    <tr>\n      <th>2017-07-31</th>\n      <td>69.315483</td>\n      <td>0.120</td>\n      <td>72.699997</td>\n      <td>0.120</td>\n      <td>73.440002</td>\n      <td>0.120</td>\n      <td>72.410004</td>\n      <td>0.120</td>\n      <td>73.300003</td>\n      <td>0.120</td>\n      <td>23600100</td>\n      <td>3000.0</td>\n    </tr>\n    <tr>\n      <th>2017-08-01</th>\n      <td>69.201080</td>\n      <td>0.120</td>\n      <td>72.580002</td>\n      <td>0.120</td>\n      <td>73.419998</td>\n      <td>0.125</td>\n      <td>72.489998</td>\n      <td>0.120</td>\n      <td>73.099998</td>\n      <td>0.120</td>\n      <td>22132300</td>\n      <td>35000.0</td>\n    </tr>\n    <tr>\n      <th>2017-08-02</th>\n      <td>68.895973</td>\n      <td>13.340</td>\n      <td>72.260002</td>\n      <td>13.340</td>\n      <td>72.559998</td>\n      <td>13.570</td>\n      <td>71.440002</td>\n      <td>13.300</td>\n      <td>72.550003</td>\n      <td>13.300</td>\n      <td>26499200</td>\n      <td>2266377.0</td>\n    </tr>\n    <tr>\n      <th>2017-08-03</th>\n      <td>68.791092</td>\n      <td>0.110</td>\n      <td>72.150002</td>\n      <td>0.110</td>\n      <td>72.440002</td>\n      <td>0.110</td>\n      <td>71.849998</td>\n      <td>0.110</td>\n      <td>72.190002</td>\n      <td>0.110</td>\n      <td>18214400</td>\n      <td>20000.0</td>\n    </tr>\n    <tr>\n      <th>2017-08-04</th>\n      <td>69.296425</td>\n      <td>0.043</td>\n      <td>72.680000</td>\n      <td>0.043</td>\n      <td>73.040001</td>\n      <td>0.043</td>\n      <td>72.239998</td>\n      <td>0.043</td>\n      <td>72.400002</td>\n      <td>0.043</td>\n      <td>22579000</td>\n      <td>0.0</td>\n    </tr>\n    <tr>\n      <th>...</th>\n      <td>...</td>\n      <td>...</td>\n      <td>...</td>\n      <td>...</td>\n      <td>...</td>\n      <td>...</td>\n      <td>...</td>\n      <td>...</td>\n      <td>...</td>\n      <td>...</td>\n      <td>...</td>\n      <td>...</td>\n    </tr>\n    <tr>\n      <th>2020-07-24</th>\n      <td>201.300003</td>\n      <td>NaN</td>\n      <td>201.300003</td>\n      <td>NaN</td>\n      <td>202.860001</td>\n      <td>NaN</td>\n      <td>197.509995</td>\n      <td>NaN</td>\n      <td>200.419998</td>\n      <td>NaN</td>\n      <td>39827000</td>\n      <td>NaN</td>\n    </tr>\n    <tr>\n      <th>2020-07-27</th>\n      <td>203.850006</td>\n      <td>NaN</td>\n      <td>203.850006</td>\n      <td>NaN</td>\n      <td>203.970001</td>\n      <td>NaN</td>\n      <td>200.860001</td>\n      <td>NaN</td>\n      <td>201.470001</td>\n      <td>NaN</td>\n      <td>30160900</td>\n      <td>NaN</td>\n    </tr>\n    <tr>\n      <th>2020-07-28</th>\n      <td>202.020004</td>\n      <td>NaN</td>\n      <td>202.020004</td>\n      <td>NaN</td>\n      <td>204.699997</td>\n      <td>NaN</td>\n      <td>201.740005</td>\n      <td>NaN</td>\n      <td>203.610001</td>\n      <td>NaN</td>\n      <td>23251400</td>\n      <td>NaN</td>\n    </tr>\n    <tr>\n      <th>2020-07-29</th>\n      <td>204.059998</td>\n      <td>NaN</td>\n      <td>204.059998</td>\n      <td>NaN</td>\n      <td>204.649994</td>\n      <td>NaN</td>\n      <td>202.009995</td>\n      <td>NaN</td>\n      <td>202.500000</td>\n      <td>NaN</td>\n      <td>19632600</td>\n      <td>NaN</td>\n    </tr>\n    <tr>\n      <th>2020-07-30</th>\n      <td>203.899994</td>\n      <td>NaN</td>\n      <td>203.899994</td>\n      <td>NaN</td>\n      <td>204.460007</td>\n      <td>NaN</td>\n      <td>199.570007</td>\n      <td>NaN</td>\n      <td>201.000000</td>\n      <td>NaN</td>\n      <td>25079600</td>\n      <td>NaN</td>\n    </tr>\n  </tbody>\n</table>\n<p>756 rows × 12 columns</p>\n</div>"
     },
     "metadata": {},
     "execution_count": 21
    }
   ],
   "source": [
    "def fetch_data(syms):\n",
    "    symbols = syms \n",
    "    start = '2017-07-31'\n",
    "    end = '2020-07-31'\n",
    "    return (df := yf.download(symbols,start,end))\n",
    "fetch_data('MSFT PGE')\n"
   ]
  },
  {
   "cell_type": "code",
   "execution_count": 7,
   "metadata": {
    "tags": []
   },
   "outputs": [
    {
     "output_type": "stream",
     "name": "stdout",
     "text": "[*********************100%***********************]  1 of 1 completed\n"
    },
    {
     "output_type": "execute_result",
     "data": {
      "text/plain": "                 Open       High        Low      Close  Adj Close   Volume\nDate                                                                      \n2017-07-31  44.500000  44.700001  44.049999  44.290001  44.290001  2754835\n2017-08-01  44.290001  44.450001  43.849998  44.000000  44.000000  2776555\n2017-08-02  44.090000  44.790001  44.020000  44.790001  44.790001  1285208\n2017-08-03  44.779999  46.299999  44.580002  46.200001  46.200001  2043200\n2017-08-04  46.200001  46.450001  45.509998  45.950001  45.950001  1746366\n...               ...        ...        ...        ...        ...      ...\n2018-01-24  46.619999  46.740002  46.080002  46.080002  46.080002   840628\n2018-01-25  46.000000  47.000000  45.759998  46.599998  46.599998  1434029\n2018-01-26  46.759998  47.340000  46.730000  47.340000  47.340000  1120409\n2018-01-29  47.080002  47.290001  46.250000  46.500000  46.500000  1158182\n2018-01-30  46.209999  46.220001  45.450001  45.750000  45.750000   775836\n\n[127 rows x 6 columns]",
      "text/html": "<div>\n<style scoped>\n    .dataframe tbody tr th:only-of-type {\n        vertical-align: middle;\n    }\n\n    .dataframe tbody tr th {\n        vertical-align: top;\n    }\n\n    .dataframe thead th {\n        text-align: right;\n    }\n</style>\n<table border=\"1\" class=\"dataframe\">\n  <thead>\n    <tr style=\"text-align: right;\">\n      <th></th>\n      <th>Open</th>\n      <th>High</th>\n      <th>Low</th>\n      <th>Close</th>\n      <th>Adj Close</th>\n      <th>Volume</th>\n    </tr>\n    <tr>\n      <th>Date</th>\n      <th></th>\n      <th></th>\n      <th></th>\n      <th></th>\n      <th></th>\n      <th></th>\n    </tr>\n  </thead>\n  <tbody>\n    <tr>\n      <th>2017-07-31</th>\n      <td>44.500000</td>\n      <td>44.700001</td>\n      <td>44.049999</td>\n      <td>44.290001</td>\n      <td>44.290001</td>\n      <td>2754835</td>\n    </tr>\n    <tr>\n      <th>2017-08-01</th>\n      <td>44.290001</td>\n      <td>44.450001</td>\n      <td>43.849998</td>\n      <td>44.000000</td>\n      <td>44.000000</td>\n      <td>2776555</td>\n    </tr>\n    <tr>\n      <th>2017-08-02</th>\n      <td>44.090000</td>\n      <td>44.790001</td>\n      <td>44.020000</td>\n      <td>44.790001</td>\n      <td>44.790001</td>\n      <td>1285208</td>\n    </tr>\n    <tr>\n      <th>2017-08-03</th>\n      <td>44.779999</td>\n      <td>46.299999</td>\n      <td>44.580002</td>\n      <td>46.200001</td>\n      <td>46.200001</td>\n      <td>2043200</td>\n    </tr>\n    <tr>\n      <th>2017-08-04</th>\n      <td>46.200001</td>\n      <td>46.450001</td>\n      <td>45.509998</td>\n      <td>45.950001</td>\n      <td>45.950001</td>\n      <td>1746366</td>\n    </tr>\n    <tr>\n      <th>...</th>\n      <td>...</td>\n      <td>...</td>\n      <td>...</td>\n      <td>...</td>\n      <td>...</td>\n      <td>...</td>\n    </tr>\n    <tr>\n      <th>2018-01-24</th>\n      <td>46.619999</td>\n      <td>46.740002</td>\n      <td>46.080002</td>\n      <td>46.080002</td>\n      <td>46.080002</td>\n      <td>840628</td>\n    </tr>\n    <tr>\n      <th>2018-01-25</th>\n      <td>46.000000</td>\n      <td>47.000000</td>\n      <td>45.759998</td>\n      <td>46.599998</td>\n      <td>46.599998</td>\n      <td>1434029</td>\n    </tr>\n    <tr>\n      <th>2018-01-26</th>\n      <td>46.759998</td>\n      <td>47.340000</td>\n      <td>46.730000</td>\n      <td>47.340000</td>\n      <td>47.340000</td>\n      <td>1120409</td>\n    </tr>\n    <tr>\n      <th>2018-01-29</th>\n      <td>47.080002</td>\n      <td>47.290001</td>\n      <td>46.250000</td>\n      <td>46.500000</td>\n      <td>46.500000</td>\n      <td>1158182</td>\n    </tr>\n    <tr>\n      <th>2018-01-30</th>\n      <td>46.209999</td>\n      <td>46.220001</td>\n      <td>45.450001</td>\n      <td>45.750000</td>\n      <td>45.750000</td>\n      <td>775836</td>\n    </tr>\n  </tbody>\n</table>\n<p>127 rows × 6 columns</p>\n</div>"
     },
     "metadata": {},
     "execution_count": 7
    }
   ],
   "source": [
    "fetch_data('PZU') # it seems that exotic tickers do not have most recent stock quotes"
   ]
  },
  {
   "cell_type": "code",
   "execution_count": 17,
   "metadata": {},
   "outputs": [
    {
     "output_type": "execute_result",
     "data": {
      "text/plain": "             Open   High    Low  Close    Volume  Dividends  Stock Splits\nDate                                                                     \n2010-05-11  32.20  32.20  32.20  32.20         0          0             0\n2010-05-12  34.90  36.00  34.81  36.00  72253000          0             0\n2010-05-13  35.80  36.19  35.40  35.70  18084200          0             0\n2010-05-14  35.53  36.00  35.33  35.50  10570620          0             0\n2010-05-17  34.60  35.30  34.52  35.10   9313620          0             0\n...           ...    ...    ...    ...       ...        ...           ...\n2018-01-24  46.62  46.74  46.08  46.08    840628          0             0\n2018-01-25  46.00  47.00  45.76  46.60   1434029          0             0\n2018-01-26  46.76  47.34  46.73  47.34   1120409          0             0\n2018-01-29  47.08  47.29  46.25  46.50   1158182          0             0\n2018-01-30  46.21  46.22  45.45  45.75    775836          0             0\n\n[1934 rows x 7 columns]",
      "text/html": "<div>\n<style scoped>\n    .dataframe tbody tr th:only-of-type {\n        vertical-align: middle;\n    }\n\n    .dataframe tbody tr th {\n        vertical-align: top;\n    }\n\n    .dataframe thead th {\n        text-align: right;\n    }\n</style>\n<table border=\"1\" class=\"dataframe\">\n  <thead>\n    <tr style=\"text-align: right;\">\n      <th></th>\n      <th>Open</th>\n      <th>High</th>\n      <th>Low</th>\n      <th>Close</th>\n      <th>Volume</th>\n      <th>Dividends</th>\n      <th>Stock Splits</th>\n    </tr>\n    <tr>\n      <th>Date</th>\n      <th></th>\n      <th></th>\n      <th></th>\n      <th></th>\n      <th></th>\n      <th></th>\n      <th></th>\n    </tr>\n  </thead>\n  <tbody>\n    <tr>\n      <th>2010-05-11</th>\n      <td>32.20</td>\n      <td>32.20</td>\n      <td>32.20</td>\n      <td>32.20</td>\n      <td>0</td>\n      <td>0</td>\n      <td>0</td>\n    </tr>\n    <tr>\n      <th>2010-05-12</th>\n      <td>34.90</td>\n      <td>36.00</td>\n      <td>34.81</td>\n      <td>36.00</td>\n      <td>72253000</td>\n      <td>0</td>\n      <td>0</td>\n    </tr>\n    <tr>\n      <th>2010-05-13</th>\n      <td>35.80</td>\n      <td>36.19</td>\n      <td>35.40</td>\n      <td>35.70</td>\n      <td>18084200</td>\n      <td>0</td>\n      <td>0</td>\n    </tr>\n    <tr>\n      <th>2010-05-14</th>\n      <td>35.53</td>\n      <td>36.00</td>\n      <td>35.33</td>\n      <td>35.50</td>\n      <td>10570620</td>\n      <td>0</td>\n      <td>0</td>\n    </tr>\n    <tr>\n      <th>2010-05-17</th>\n      <td>34.60</td>\n      <td>35.30</td>\n      <td>34.52</td>\n      <td>35.10</td>\n      <td>9313620</td>\n      <td>0</td>\n      <td>0</td>\n    </tr>\n    <tr>\n      <th>...</th>\n      <td>...</td>\n      <td>...</td>\n      <td>...</td>\n      <td>...</td>\n      <td>...</td>\n      <td>...</td>\n      <td>...</td>\n    </tr>\n    <tr>\n      <th>2018-01-24</th>\n      <td>46.62</td>\n      <td>46.74</td>\n      <td>46.08</td>\n      <td>46.08</td>\n      <td>840628</td>\n      <td>0</td>\n      <td>0</td>\n    </tr>\n    <tr>\n      <th>2018-01-25</th>\n      <td>46.00</td>\n      <td>47.00</td>\n      <td>45.76</td>\n      <td>46.60</td>\n      <td>1434029</td>\n      <td>0</td>\n      <td>0</td>\n    </tr>\n    <tr>\n      <th>2018-01-26</th>\n      <td>46.76</td>\n      <td>47.34</td>\n      <td>46.73</td>\n      <td>47.34</td>\n      <td>1120409</td>\n      <td>0</td>\n      <td>0</td>\n    </tr>\n    <tr>\n      <th>2018-01-29</th>\n      <td>47.08</td>\n      <td>47.29</td>\n      <td>46.25</td>\n      <td>46.50</td>\n      <td>1158182</td>\n      <td>0</td>\n      <td>0</td>\n    </tr>\n    <tr>\n      <th>2018-01-30</th>\n      <td>46.21</td>\n      <td>46.22</td>\n      <td>45.45</td>\n      <td>45.75</td>\n      <td>775836</td>\n      <td>0</td>\n      <td>0</td>\n    </tr>\n  </tbody>\n</table>\n<p>1934 rows × 7 columns</p>\n</div>"
     },
     "metadata": {},
     "execution_count": 17
    }
   ],
   "source": [
    "pzu = yf.Ticker(\"PZU\")\n",
    "pzu.history(period=\"max\")"
   ]
  },
  {
   "cell_type": "code",
   "execution_count": 10,
   "metadata": {},
   "outputs": [
    {
     "output_type": "execute_result",
     "data": {
      "text/plain": "              Open    High     Low   Close      Volume  Dividends  \\\nDate                                                                \n1986-03-13    0.06    0.06    0.06    0.06  1031788800        0.0   \n1986-03-14    0.06    0.07    0.06    0.06   308160000        0.0   \n1986-03-17    0.06    0.07    0.06    0.07   133171200        0.0   \n1986-03-18    0.07    0.07    0.06    0.06    67766400        0.0   \n1986-03-19    0.06    0.06    0.06    0.06    47894400        0.0   \n...            ...     ...     ...     ...         ...        ...   \n2020-07-27  201.47  203.97  200.86  203.85    30160900        0.0   \n2020-07-28  203.61  204.70  201.74  202.02    23251400        0.0   \n2020-07-29  202.50  204.65  202.01  204.06    19632600        0.0   \n2020-07-30  201.00  204.46  199.57  203.90    25079600        0.0   \n2020-07-31  204.40  205.10  199.01  205.01    51044000        0.0   \n\n            Stock Splits  \nDate                      \n1986-03-13           0.0  \n1986-03-14           0.0  \n1986-03-17           0.0  \n1986-03-18           0.0  \n1986-03-19           0.0  \n...                  ...  \n2020-07-27           0.0  \n2020-07-28           0.0  \n2020-07-29           0.0  \n2020-07-30           0.0  \n2020-07-31           0.0  \n\n[8668 rows x 7 columns]",
      "text/html": "<div>\n<style scoped>\n    .dataframe tbody tr th:only-of-type {\n        vertical-align: middle;\n    }\n\n    .dataframe tbody tr th {\n        vertical-align: top;\n    }\n\n    .dataframe thead th {\n        text-align: right;\n    }\n</style>\n<table border=\"1\" class=\"dataframe\">\n  <thead>\n    <tr style=\"text-align: right;\">\n      <th></th>\n      <th>Open</th>\n      <th>High</th>\n      <th>Low</th>\n      <th>Close</th>\n      <th>Volume</th>\n      <th>Dividends</th>\n      <th>Stock Splits</th>\n    </tr>\n    <tr>\n      <th>Date</th>\n      <th></th>\n      <th></th>\n      <th></th>\n      <th></th>\n      <th></th>\n      <th></th>\n      <th></th>\n    </tr>\n  </thead>\n  <tbody>\n    <tr>\n      <th>1986-03-13</th>\n      <td>0.06</td>\n      <td>0.06</td>\n      <td>0.06</td>\n      <td>0.06</td>\n      <td>1031788800</td>\n      <td>0.0</td>\n      <td>0.0</td>\n    </tr>\n    <tr>\n      <th>1986-03-14</th>\n      <td>0.06</td>\n      <td>0.07</td>\n      <td>0.06</td>\n      <td>0.06</td>\n      <td>308160000</td>\n      <td>0.0</td>\n      <td>0.0</td>\n    </tr>\n    <tr>\n      <th>1986-03-17</th>\n      <td>0.06</td>\n      <td>0.07</td>\n      <td>0.06</td>\n      <td>0.07</td>\n      <td>133171200</td>\n      <td>0.0</td>\n      <td>0.0</td>\n    </tr>\n    <tr>\n      <th>1986-03-18</th>\n      <td>0.07</td>\n      <td>0.07</td>\n      <td>0.06</td>\n      <td>0.06</td>\n      <td>67766400</td>\n      <td>0.0</td>\n      <td>0.0</td>\n    </tr>\n    <tr>\n      <th>1986-03-19</th>\n      <td>0.06</td>\n      <td>0.06</td>\n      <td>0.06</td>\n      <td>0.06</td>\n      <td>47894400</td>\n      <td>0.0</td>\n      <td>0.0</td>\n    </tr>\n    <tr>\n      <th>...</th>\n      <td>...</td>\n      <td>...</td>\n      <td>...</td>\n      <td>...</td>\n      <td>...</td>\n      <td>...</td>\n      <td>...</td>\n    </tr>\n    <tr>\n      <th>2020-07-27</th>\n      <td>201.47</td>\n      <td>203.97</td>\n      <td>200.86</td>\n      <td>203.85</td>\n      <td>30160900</td>\n      <td>0.0</td>\n      <td>0.0</td>\n    </tr>\n    <tr>\n      <th>2020-07-28</th>\n      <td>203.61</td>\n      <td>204.70</td>\n      <td>201.74</td>\n      <td>202.02</td>\n      <td>23251400</td>\n      <td>0.0</td>\n      <td>0.0</td>\n    </tr>\n    <tr>\n      <th>2020-07-29</th>\n      <td>202.50</td>\n      <td>204.65</td>\n      <td>202.01</td>\n      <td>204.06</td>\n      <td>19632600</td>\n      <td>0.0</td>\n      <td>0.0</td>\n    </tr>\n    <tr>\n      <th>2020-07-30</th>\n      <td>201.00</td>\n      <td>204.46</td>\n      <td>199.57</td>\n      <td>203.90</td>\n      <td>25079600</td>\n      <td>0.0</td>\n      <td>0.0</td>\n    </tr>\n    <tr>\n      <th>2020-07-31</th>\n      <td>204.40</td>\n      <td>205.10</td>\n      <td>199.01</td>\n      <td>205.01</td>\n      <td>51044000</td>\n      <td>0.0</td>\n      <td>0.0</td>\n    </tr>\n  </tbody>\n</table>\n<p>8668 rows × 7 columns</p>\n</div>"
     },
     "metadata": {},
     "execution_count": 10
    }
   ],
   "source": [
    "msft = yf.Ticker(\"MSFT\")\n",
    "hist = msft.history(period=\"max\")\n",
    "hist\n"
   ]
  },
  {
   "cell_type": "code",
   "execution_count": 12,
   "metadata": {},
   "outputs": [
    {
     "output_type": "execute_result",
     "data": {
      "text/plain": "            Dividends  Stock Splits\nDate                               \n1987-09-21       0.00           2.0\n1990-04-16       0.00           2.0\n1991-06-27       0.00           1.5\n1992-06-15       0.00           1.5\n1994-05-23       0.00           2.0\n...               ...           ...\n2019-05-15       0.46           0.0\n2019-08-14       0.46           0.0\n2019-11-20       0.51           0.0\n2020-02-19       0.51           0.0\n2020-05-20       0.51           0.0\n\n[75 rows x 2 columns]",
      "text/html": "<div>\n<style scoped>\n    .dataframe tbody tr th:only-of-type {\n        vertical-align: middle;\n    }\n\n    .dataframe tbody tr th {\n        vertical-align: top;\n    }\n\n    .dataframe thead th {\n        text-align: right;\n    }\n</style>\n<table border=\"1\" class=\"dataframe\">\n  <thead>\n    <tr style=\"text-align: right;\">\n      <th></th>\n      <th>Dividends</th>\n      <th>Stock Splits</th>\n    </tr>\n    <tr>\n      <th>Date</th>\n      <th></th>\n      <th></th>\n    </tr>\n  </thead>\n  <tbody>\n    <tr>\n      <th>1987-09-21</th>\n      <td>0.00</td>\n      <td>2.0</td>\n    </tr>\n    <tr>\n      <th>1990-04-16</th>\n      <td>0.00</td>\n      <td>2.0</td>\n    </tr>\n    <tr>\n      <th>1991-06-27</th>\n      <td>0.00</td>\n      <td>1.5</td>\n    </tr>\n    <tr>\n      <th>1992-06-15</th>\n      <td>0.00</td>\n      <td>1.5</td>\n    </tr>\n    <tr>\n      <th>1994-05-23</th>\n      <td>0.00</td>\n      <td>2.0</td>\n    </tr>\n    <tr>\n      <th>...</th>\n      <td>...</td>\n      <td>...</td>\n    </tr>\n    <tr>\n      <th>2019-05-15</th>\n      <td>0.46</td>\n      <td>0.0</td>\n    </tr>\n    <tr>\n      <th>2019-08-14</th>\n      <td>0.46</td>\n      <td>0.0</td>\n    </tr>\n    <tr>\n      <th>2019-11-20</th>\n      <td>0.51</td>\n      <td>0.0</td>\n    </tr>\n    <tr>\n      <th>2020-02-19</th>\n      <td>0.51</td>\n      <td>0.0</td>\n    </tr>\n    <tr>\n      <th>2020-05-20</th>\n      <td>0.51</td>\n      <td>0.0</td>\n    </tr>\n  </tbody>\n</table>\n<p>75 rows × 2 columns</p>\n</div>"
     },
     "metadata": {},
     "execution_count": 12
    }
   ],
   "source": [
    "# show actions (dividends, splits)\n",
    "msft.actions"
   ]
  },
  {
   "cell_type": "code",
   "execution_count": 13,
   "metadata": {},
   "outputs": [
    {
     "output_type": "execute_result",
     "data": {
      "text/plain": "Date\n2003-02-19    0.08\n2003-10-15    0.16\n2004-08-23    0.08\n2004-11-15    3.08\n2005-02-15    0.08\n              ... \n2019-05-15    0.46\n2019-08-14    0.46\n2019-11-20    0.51\n2020-02-19    0.51\n2020-05-20    0.51\nName: Dividends, Length: 66, dtype: float64"
     },
     "metadata": {},
     "execution_count": 13
    }
   ],
   "source": [
    "# show dividends\n",
    "msft.dividends"
   ]
  },
  {
   "cell_type": "code",
   "execution_count": 14,
   "metadata": {},
   "outputs": [
    {
     "output_type": "execute_result",
     "data": {
      "text/plain": "Date\n1987-09-21    2.0\n1990-04-16    2.0\n1991-06-27    1.5\n1992-06-15    1.5\n1994-05-23    2.0\n1996-12-09    2.0\n1998-02-23    2.0\n1999-03-29    2.0\n2003-02-18    2.0\nName: Stock Splits, dtype: float64"
     },
     "metadata": {},
     "execution_count": 14
    }
   ],
   "source": [
    "# show splits\n",
    "msft.splits"
   ]
  },
  {
   "cell_type": "code",
   "execution_count": 15,
   "metadata": {
    "tags": []
   },
   "outputs": [
    {
     "output_type": "stream",
     "name": "stdout",
     "text": "Collecting yfinance-ez\n  Downloading yfinance_ez-0.2.2.tar.gz (28 kB)\nRequirement already satisfied: pandas>=0.24 in /home/raf/.local/bin/miniconda3/envs/jupyter/lib/python3.8/site-packages (from yfinance-ez) (0.25.3)\nRequirement already satisfied: numpy>=1.15 in /home/raf/.local/bin/miniconda3/envs/jupyter/lib/python3.8/site-packages (from yfinance-ez) (1.18.1)\nRequirement already satisfied: requests>=2.20 in /home/raf/.local/bin/miniconda3/envs/jupyter/lib/python3.8/site-packages (from yfinance-ez) (2.23.0)\nRequirement already satisfied: multitasking>=0.0.7 in /home/raf/.local/bin/miniconda3/envs/jupyter/lib/python3.8/site-packages (from yfinance-ez) (0.0.9)\nRequirement already satisfied: python-dateutil>=2.6.1 in /home/raf/.local/bin/miniconda3/envs/jupyter/lib/python3.8/site-packages (from pandas>=0.24->yfinance-ez) (2.8.1)\nRequirement already satisfied: pytz>=2017.2 in /home/raf/.local/bin/miniconda3/envs/jupyter/lib/python3.8/site-packages (from pandas>=0.24->yfinance-ez) (2019.3)\nRequirement already satisfied: urllib3!=1.25.0,!=1.25.1,<1.26,>=1.21.1 in /home/raf/.local/bin/miniconda3/envs/jupyter/lib/python3.8/site-packages (from requests>=2.20->yfinance-ez) (1.25.8)\nRequirement already satisfied: chardet<4,>=3.0.2 in /home/raf/.local/bin/miniconda3/envs/jupyter/lib/python3.8/site-packages (from requests>=2.20->yfinance-ez) (3.0.4)\nRequirement already satisfied: idna<3,>=2.5 in /home/raf/.local/bin/miniconda3/envs/jupyter/lib/python3.8/site-packages (from requests>=2.20->yfinance-ez) (2.8)\nRequirement already satisfied: certifi>=2017.4.17 in /home/raf/.local/bin/miniconda3/envs/jupyter/lib/python3.8/site-packages (from requests>=2.20->yfinance-ez) (2020.6.20)\nRequirement already satisfied: six>=1.5 in /home/raf/.local/bin/miniconda3/envs/jupyter/lib/python3.8/site-packages (from python-dateutil>=2.6.1->pandas>=0.24->yfinance-ez) (1.14.0)\nBuilding wheels for collected packages: yfinance-ez\n  Building wheel for yfinance-ez (setup.py) ... \u001b[?25ldone\n\u001b[?25h  Created wheel for yfinance-ez: filename=yfinance_ez-0.2.2-py2.py3-none-any.whl size=32731 sha256=dc31a2e771a28a85b647b51780689c5c64ddea5447514e77aacba6bd2193fd10\n  Stored in directory: /home/raf/.cache/pip/wheels/4d/d3/79/7f66524c8d12ad7f16a3e90c5f57579deddaf4e3393af740fe\nSuccessfully built yfinance-ez\nInstalling collected packages: yfinance-ez\nSuccessfully installed yfinance-ez-0.2.2\n"
    }
   ],
   "source": [
    "# mod of yfinance fixing some issues - TODO which issues?\n",
    "!pip install yfinance-ez"
   ]
  },
  {
   "cell_type": "code",
   "execution_count": null,
   "metadata": {},
   "outputs": [],
   "source": []
  },
  {
   "cell_type": "code",
   "execution_count": 19,
   "metadata": {},
   "outputs": [
    {
     "output_type": "execute_result",
     "data": {
      "text/plain": "{'zip': '98052',\n 'sector': 'Technology',\n 'fullTimeEmployees': 163000,\n 'longBusinessSummary': 'Microsoft Corporation develops, licenses, and supports software, services, devices, and solutions worldwide. Its Productivity and Business Processes segment offers Office, Exchange, SharePoint, Microsoft Teams, Office 365 Security and Compliance, and Skype for Business, as well as related Client Access Licenses (CAL); Skype, Outlook.com, and OneDrive; LinkedIn that includes Talent and marketing solutions, and subscriptions; and Dynamics 365, a set of cloud-based and on-premises business solutions for small and medium businesses, large organizations, and divisions of enterprises. Its Intelligent Cloud segment licenses SQL and Windows Servers, Visual Studio, System Center, and related CALs; GitHub that provides a collaboration platform and code hosting service for developers; and Azure, a cloud platform. It also provides support services and Microsoft consulting services to assist customers in developing, deploying, and managing Microsoft server and desktop solutions; and training and certification to developers and IT professionals on various Microsoft products. Its More Personal Computing segment offers Windows OEM licensing and other non-volume licensing of the Windows operating system; Windows Commercial, such as volume licensing of the Windows operating system, Windows cloud services, and other Windows commercial offerings; patent licensing; Windows Internet of Things; and MSN advertising. It also provides Microsoft Surface, PC accessories, and other devices; Gaming, including Xbox hardware, and Xbox software and services; video games and third-party video game royalties; and Search, including Bing and Microsoft advertising. It sells its products through distributors and resellers; and directly through digital marketplaces, online stores, and retail stores. It has strategic partnerships with Humana Inc., Nokia, Telkomsel, Swiss Re, Kubota Corporation, FedEx Corp., and Hitachi. The company was founded in 1975 and is headquartered in Redmond, Washington.',\n 'city': 'Redmond',\n 'phone': '425-882-8080',\n 'state': 'WA',\n 'country': 'United States',\n 'companyOfficers': [],\n 'website': 'http://www.microsoft.com',\n 'maxAge': 1,\n 'address1': 'One Microsoft Way',\n 'fax': '425-706-7329',\n 'industry': 'Software—Infrastructure',\n 'previousClose': 203.9,\n 'regularMarketOpen': 204.4,\n 'twoHundredDayAverage': 179.17288,\n 'trailingAnnualDividendYield': 0.010004904,\n 'payoutRatio': 0.3455,\n 'volume24Hr': None,\n 'regularMarketDayHigh': 205.1,\n 'navPrice': None,\n 'averageDailyVolume10Day': 38257275,\n 'totalAssets': None,\n 'regularMarketPreviousClose': 203.9,\n 'fiftyDayAverage': 203.162,\n 'trailingAnnualDividendRate': 2.04,\n 'open': 204.4,\n 'toCurrency': None,\n 'averageVolume10days': 38257275,\n 'expireDate': None,\n 'yield': None,\n 'algorithm': None,\n 'dividendRate': 2.04,\n 'exDividendDate': 1597795200,\n 'beta': 0.933333,\n 'circulatingSupply': None,\n 'startDate': None,\n 'regularMarketDayLow': 199.01,\n 'priceHint': 2,\n 'currency': 'USD',\n 'trailingPE': 35.59201,\n 'regularMarketVolume': 51247969,\n 'lastMarket': None,\n 'maxSupply': None,\n 'openInterest': None,\n 'marketCap': 1552130637824,\n 'volumeAllCurrencies': None,\n 'strikePrice': None,\n 'averageVolume': 34751042,\n 'priceToSalesTrailing12Months': 10.8529215,\n 'dayLow': 199.01,\n 'ask': 205.86,\n 'ytdReturn': None,\n 'askSize': 1100,\n 'volume': 51247969,\n 'fiftyTwoWeekHigh': 216.38,\n 'forwardPE': 27.930517,\n 'fromCurrency': None,\n 'fiveYearAvgDividendYield': 1.89,\n 'fiftyTwoWeekLow': 130.78,\n 'bid': 205.5,\n 'tradeable': False,\n 'dividendYield': 0.01,\n 'bidSize': 1100,\n 'dayHigh': 205.1,\n 'exchange': 'NMS',\n 'shortName': 'Microsoft Corporation',\n 'longName': 'Microsoft Corporation',\n 'exchangeTimezoneName': 'America/New_York',\n 'exchangeTimezoneShortName': 'EDT',\n 'isEsgPopulated': False,\n 'gmtOffSetMilliseconds': '-14400000',\n 'quoteType': 'EQUITY',\n 'symbol': 'MSFT',\n 'messageBoardId': 'finmb_21835',\n 'market': 'us_market',\n 'annualHoldingsTurnover': None,\n 'enterpriseToRevenue': 10.468,\n 'beta3Year': None,\n 'profitMargins': 0.30962,\n 'enterpriseToEbitda': 22.94,\n '52WeekChange': 0.55063903,\n 'morningStarRiskRating': None,\n 'forwardEps': 7.34,\n 'revenueQuarterlyGrowth': None,\n 'sharesOutstanding': 7570999808,\n 'fundInceptionDate': None,\n 'annualReportExpenseRatio': None,\n 'bookValue': 15.626,\n 'sharesShort': 39894144,\n 'sharesPercentSharesOut': 0.0053,\n 'fundFamily': None,\n 'lastFiscalYearEnd': 1593475200,\n 'heldPercentInstitutions': 0.74093,\n 'netIncomeToCommon': 44280999936,\n 'trailingEps': 5.76,\n 'lastDividendValue': None,\n 'SandP52WeekChange': 0.14988375,\n 'priceToBook': 13.1198,\n 'heldPercentInsiders': 0.014249999,\n 'nextFiscalYearEnd': 1656547200,\n 'mostRecentQuarter': 1593475200,\n 'shortRatio': 1.19,\n 'sharesShortPreviousMonthDate': 1592179200,\n 'floatShares': 7456408437,\n 'enterpriseValue': 1497062572032,\n 'threeYearAverageReturn': None,\n 'lastSplitDate': 1045526400,\n 'lastSplitFactor': '2:1',\n 'legalType': None,\n 'morningStarOverallRating': None,\n 'earningsQuarterlyGrowth': -0.151,\n 'dateShortInterest': 1594771200,\n 'pegRatio': 2.1,\n 'lastCapGain': None,\n 'shortPercentOfFloat': 0.0053,\n 'sharesShortPriorMonth': 42930465,\n 'category': None,\n 'fiveYearAverageReturn': None,\n 'regularMarketPrice': 204.4,\n 'logo_url': 'https://logo.clearbit.com/microsoft.com'}"
     },
     "metadata": {},
     "execution_count": 19
    }
   ],
   "source": [
    "msft.info #get stock info"
   ]
  },
  {
   "cell_type": "code",
   "execution_count": null,
   "metadata": {},
   "outputs": [],
   "source": []
  }
 ]
}