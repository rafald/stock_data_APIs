{
 "metadata": {
  "language_info": {
   "codemirror_mode": {
    "name": "ipython",
    "version": 3
   },
   "file_extension": ".py",
   "mimetype": "text/x-python",
   "name": "python",
   "nbconvert_exporter": "python",
   "pygments_lexer": "ipython3",
   "version": "3.8.1-final"
  },
  "orig_nbformat": 2,
  "kernelspec": {
   "name": "python38164bitjupyterconda0d2bd17282c3412786608206568a1d2b",
   "display_name": "Python 3.8.1 64-bit ('jupyter': conda)"
  }
 },
 "nbformat": 4,
 "nbformat_minor": 2,
 "cells": [
  {
   "cell_type": "code",
   "execution_count": 2,
   "metadata": {
    "tags": []
   },
   "outputs": [],
   "source": [
    "import pandas as pd\n",
    "import numpy as np\n",
    "#from pprint import pprint\n",
    "import matplotlib.pyplot as plt\n",
    "\n",
    "import warnings\n",
    "warnings.filterwarnings(\"once\")"
   ]
  },
  {
   "cell_type": "markdown",
   "metadata": {},
   "source": [
    "https://pandas-datareader.readthedocs.io/en/latest/"
   ]
  },
  {
   "cell_type": "code",
   "execution_count": 4,
   "metadata": {
    "tags": []
   },
   "outputs": [
    {
     "output_type": "stream",
     "name": "stdout",
     "text": "Requirement already up-to-date: pandas-datareader in /home/raf/.local/bin/miniconda3/envs/jupyter/lib/python3.8/site-packages (0.9.0)\nRequirement already satisfied, skipping upgrade: requests>=2.19.0 in /home/raf/.local/bin/miniconda3/envs/jupyter/lib/python3.8/site-packages (from pandas-datareader) (2.23.0)\nRequirement already satisfied, skipping upgrade: pandas>=0.23 in /home/raf/.local/bin/miniconda3/envs/jupyter/lib/python3.8/site-packages (from pandas-datareader) (0.25.3)\nRequirement already satisfied, skipping upgrade: lxml in /home/raf/.local/bin/miniconda3/envs/jupyter/lib/python3.8/site-packages (from pandas-datareader) (4.5.2)\nRequirement already satisfied, skipping upgrade: idna<3,>=2.5 in /home/raf/.local/bin/miniconda3/envs/jupyter/lib/python3.8/site-packages (from requests>=2.19.0->pandas-datareader) (2.8)\nRequirement already satisfied, skipping upgrade: chardet<4,>=3.0.2 in /home/raf/.local/bin/miniconda3/envs/jupyter/lib/python3.8/site-packages (from requests>=2.19.0->pandas-datareader) (3.0.4)\nRequirement already satisfied, skipping upgrade: urllib3!=1.25.0,!=1.25.1,<1.26,>=1.21.1 in /home/raf/.local/bin/miniconda3/envs/jupyter/lib/python3.8/site-packages (from requests>=2.19.0->pandas-datareader) (1.25.8)\nRequirement already satisfied, skipping upgrade: certifi>=2017.4.17 in /home/raf/.local/bin/miniconda3/envs/jupyter/lib/python3.8/site-packages (from requests>=2.19.0->pandas-datareader) (2020.6.20)\nRequirement already satisfied, skipping upgrade: pytz>=2017.2 in /home/raf/.local/bin/miniconda3/envs/jupyter/lib/python3.8/site-packages (from pandas>=0.23->pandas-datareader) (2019.3)\nRequirement already satisfied, skipping upgrade: numpy>=1.13.3 in /home/raf/.local/bin/miniconda3/envs/jupyter/lib/python3.8/site-packages (from pandas>=0.23->pandas-datareader) (1.18.1)\nRequirement already satisfied, skipping upgrade: python-dateutil>=2.6.1 in /home/raf/.local/bin/miniconda3/envs/jupyter/lib/python3.8/site-packages (from pandas>=0.23->pandas-datareader) (2.8.1)\nRequirement already satisfied, skipping upgrade: six>=1.5 in /home/raf/.local/bin/miniconda3/envs/jupyter/lib/python3.8/site-packages (from python-dateutil>=2.6.1->pandas>=0.23->pandas-datareader) (1.14.0)\nRequirement already up-to-date: yfinance in /home/raf/.local/bin/miniconda3/envs/jupyter/lib/python3.8/site-packages (0.1.54)\nRequirement already satisfied, skipping upgrade: multitasking>=0.0.7 in /home/raf/.local/bin/miniconda3/envs/jupyter/lib/python3.8/site-packages (from yfinance) (0.0.9)\nRequirement already satisfied, skipping upgrade: pandas>=0.24 in /home/raf/.local/bin/miniconda3/envs/jupyter/lib/python3.8/site-packages (from yfinance) (0.25.3)\nRequirement already satisfied, skipping upgrade: numpy>=1.15 in /home/raf/.local/bin/miniconda3/envs/jupyter/lib/python3.8/site-packages (from yfinance) (1.18.1)\nRequirement already satisfied, skipping upgrade: requests>=2.20 in /home/raf/.local/bin/miniconda3/envs/jupyter/lib/python3.8/site-packages (from yfinance) (2.23.0)\nRequirement already satisfied, skipping upgrade: python-dateutil>=2.6.1 in /home/raf/.local/bin/miniconda3/envs/jupyter/lib/python3.8/site-packages (from pandas>=0.24->yfinance) (2.8.1)\nRequirement already satisfied, skipping upgrade: pytz>=2017.2 in /home/raf/.local/bin/miniconda3/envs/jupyter/lib/python3.8/site-packages (from pandas>=0.24->yfinance) (2019.3)\nRequirement already satisfied, skipping upgrade: idna<3,>=2.5 in /home/raf/.local/bin/miniconda3/envs/jupyter/lib/python3.8/site-packages (from requests>=2.20->yfinance) (2.8)\nRequirement already satisfied, skipping upgrade: chardet<4,>=3.0.2 in /home/raf/.local/bin/miniconda3/envs/jupyter/lib/python3.8/site-packages (from requests>=2.20->yfinance) (3.0.4)\nRequirement already satisfied, skipping upgrade: certifi>=2017.4.17 in /home/raf/.local/bin/miniconda3/envs/jupyter/lib/python3.8/site-packages (from requests>=2.20->yfinance) (2020.6.20)\nRequirement already satisfied, skipping upgrade: urllib3!=1.25.0,!=1.25.1,<1.26,>=1.21.1 in /home/raf/.local/bin/miniconda3/envs/jupyter/lib/python3.8/site-packages (from requests>=2.20->yfinance) (1.25.8)\nRequirement already satisfied, skipping upgrade: six>=1.5 in /home/raf/.local/bin/miniconda3/envs/jupyter/lib/python3.8/site-packages (from python-dateutil>=2.6.1->pandas>=0.24->yfinance) (1.14.0)\n"
    }
   ],
   "source": [
    "# conda install -n jupyter pandas-datareader\n",
    "!pip install pandas-datareader --upgrade --no-cache-dir\n",
    "\n",
    "#!conda install -n jupyter -c ranaroussi yfinance\n",
    "!pip install yfinance --upgrade --no-cache-dir\n",
    "\n",
    "from pandas_datareader import data as pdr"
   ]
  },
  {
   "cell_type": "code",
   "execution_count": 6,
   "metadata": {
    "tags": []
   },
   "outputs": [
    {
     "output_type": "stream",
     "name": "stdout",
     "text": "[*********************100%***********************]  1 of 1 completed\n"
    },
    {
     "output_type": "execute_result",
     "data": {
      "text/plain": "                  Open        High         Low       Close   Adj Close  \\\nDate                                                                     \n2017-01-03  225.039993  225.830002  223.880005  225.240005  210.625656   \n2017-01-04  225.619995  226.750000  225.610001  226.580002  211.878738   \n2017-01-05  226.270004  226.580002  225.479996  226.399994  211.710403   \n2017-01-06  226.529999  227.750000  225.899994  227.210007  212.467834   \n2017-01-09  226.910004  227.070007  226.419998  226.460007  211.766541   \n...                ...         ...         ...         ...         ...   \n2020-04-23  280.489990  283.940002  278.750000  279.079987  277.857239   \n2020-04-24  280.730011  283.700012  278.500000  282.970001  281.730225   \n2020-04-27  285.119995  288.269989  284.619995  287.049988  285.792328   \n2020-04-28  291.019989  291.399994  285.399994  285.730011  284.478149   \n2020-04-29  291.529999  294.880005  290.410004  293.209991  291.925354   \n\n               Volume  \nDate                   \n2017-01-03   91366500  \n2017-01-04   78744400  \n2017-01-05   78379000  \n2017-01-06   71559900  \n2017-01-09   46939700  \n...               ...  \n2020-04-23  104709700  \n2020-04-24   85166000  \n2020-04-27   77896600  \n2020-04-28  105270000  \n2020-04-29  118745600  \n\n[836 rows x 6 columns]",
      "text/html": "<div>\n<style scoped>\n    .dataframe tbody tr th:only-of-type {\n        vertical-align: middle;\n    }\n\n    .dataframe tbody tr th {\n        vertical-align: top;\n    }\n\n    .dataframe thead th {\n        text-align: right;\n    }\n</style>\n<table border=\"1\" class=\"dataframe\">\n  <thead>\n    <tr style=\"text-align: right;\">\n      <th></th>\n      <th>Open</th>\n      <th>High</th>\n      <th>Low</th>\n      <th>Close</th>\n      <th>Adj Close</th>\n      <th>Volume</th>\n    </tr>\n    <tr>\n      <th>Date</th>\n      <th></th>\n      <th></th>\n      <th></th>\n      <th></th>\n      <th></th>\n      <th></th>\n    </tr>\n  </thead>\n  <tbody>\n    <tr>\n      <th>2017-01-03</th>\n      <td>225.039993</td>\n      <td>225.830002</td>\n      <td>223.880005</td>\n      <td>225.240005</td>\n      <td>210.625656</td>\n      <td>91366500</td>\n    </tr>\n    <tr>\n      <th>2017-01-04</th>\n      <td>225.619995</td>\n      <td>226.750000</td>\n      <td>225.610001</td>\n      <td>226.580002</td>\n      <td>211.878738</td>\n      <td>78744400</td>\n    </tr>\n    <tr>\n      <th>2017-01-05</th>\n      <td>226.270004</td>\n      <td>226.580002</td>\n      <td>225.479996</td>\n      <td>226.399994</td>\n      <td>211.710403</td>\n      <td>78379000</td>\n    </tr>\n    <tr>\n      <th>2017-01-06</th>\n      <td>226.529999</td>\n      <td>227.750000</td>\n      <td>225.899994</td>\n      <td>227.210007</td>\n      <td>212.467834</td>\n      <td>71559900</td>\n    </tr>\n    <tr>\n      <th>2017-01-09</th>\n      <td>226.910004</td>\n      <td>227.070007</td>\n      <td>226.419998</td>\n      <td>226.460007</td>\n      <td>211.766541</td>\n      <td>46939700</td>\n    </tr>\n    <tr>\n      <th>...</th>\n      <td>...</td>\n      <td>...</td>\n      <td>...</td>\n      <td>...</td>\n      <td>...</td>\n      <td>...</td>\n    </tr>\n    <tr>\n      <th>2020-04-23</th>\n      <td>280.489990</td>\n      <td>283.940002</td>\n      <td>278.750000</td>\n      <td>279.079987</td>\n      <td>277.857239</td>\n      <td>104709700</td>\n    </tr>\n    <tr>\n      <th>2020-04-24</th>\n      <td>280.730011</td>\n      <td>283.700012</td>\n      <td>278.500000</td>\n      <td>282.970001</td>\n      <td>281.730225</td>\n      <td>85166000</td>\n    </tr>\n    <tr>\n      <th>2020-04-27</th>\n      <td>285.119995</td>\n      <td>288.269989</td>\n      <td>284.619995</td>\n      <td>287.049988</td>\n      <td>285.792328</td>\n      <td>77896600</td>\n    </tr>\n    <tr>\n      <th>2020-04-28</th>\n      <td>291.019989</td>\n      <td>291.399994</td>\n      <td>285.399994</td>\n      <td>285.730011</td>\n      <td>284.478149</td>\n      <td>105270000</td>\n    </tr>\n    <tr>\n      <th>2020-04-29</th>\n      <td>291.529999</td>\n      <td>294.880005</td>\n      <td>290.410004</td>\n      <td>293.209991</td>\n      <td>291.925354</td>\n      <td>118745600</td>\n    </tr>\n  </tbody>\n</table>\n<p>836 rows × 6 columns</p>\n</div>"
     },
     "metadata": {},
     "execution_count": 6
    }
   ],
   "source": [
    "# If your code uses pandas_datareader and you want to download data faster, you can “hijack” pandas_datareader.data.get_data_yahoo() method to use yfinance while making sure the returned data is in the same format as pandas_datareader’s get_data_yahoo().\n",
    "import yfinance as yf\n",
    "yf.pdr_override()\n",
    "\n",
    "# now you could\n",
    "from pandas_datareader import data as pdr\n",
    "data = pdr.get_data_yahoo(\"SPY\", start=\"2017-01-01\", end=\"2020-04-30\")\n",
    "data"
   ]
  },
  {
   "cell_type": "code",
   "execution_count": 7,
   "metadata": {
    "tags": []
   },
   "outputs": [
    {
     "output_type": "stream",
     "name": "stdout",
     "text": "[*********************100%***********************]  1 of 1 completed\n"
    },
    {
     "output_type": "execute_result",
     "data": {
      "text/plain": "                 Open       High        Low      Close  Adj Close   Volume\nDate                                                                      \n2017-01-03  33.330002  33.880001  33.180000  33.820000  33.820000  2078785\n2017-01-04  33.849998  34.099998  33.099998  33.169998  33.169998  2779327\n2017-01-05  33.169998  33.349998  32.799999  32.820000  32.820000  2869504\n2017-01-06  32.820000  32.820000  32.820000  32.820000  32.820000        0\n2017-01-09  32.869999  33.750000  32.560001  33.750000  33.750000  3373415\n...               ...        ...        ...        ...        ...      ...\n2018-01-24  46.619999  46.740002  46.080002  46.080002  46.080002   840628\n2018-01-25  46.000000  47.000000  45.759998  46.599998  46.599998  1434029\n2018-01-26  46.759998  47.340000  46.730000  47.340000  47.340000  1120409\n2018-01-29  47.080002  47.290001  46.250000  46.500000  46.500000  1158182\n2018-01-30  46.209999  46.220001  45.450001  45.750000  45.750000   775836\n\n[271 rows x 6 columns]",
      "text/html": "<div>\n<style scoped>\n    .dataframe tbody tr th:only-of-type {\n        vertical-align: middle;\n    }\n\n    .dataframe tbody tr th {\n        vertical-align: top;\n    }\n\n    .dataframe thead th {\n        text-align: right;\n    }\n</style>\n<table border=\"1\" class=\"dataframe\">\n  <thead>\n    <tr style=\"text-align: right;\">\n      <th></th>\n      <th>Open</th>\n      <th>High</th>\n      <th>Low</th>\n      <th>Close</th>\n      <th>Adj Close</th>\n      <th>Volume</th>\n    </tr>\n    <tr>\n      <th>Date</th>\n      <th></th>\n      <th></th>\n      <th></th>\n      <th></th>\n      <th></th>\n      <th></th>\n    </tr>\n  </thead>\n  <tbody>\n    <tr>\n      <th>2017-01-03</th>\n      <td>33.330002</td>\n      <td>33.880001</td>\n      <td>33.180000</td>\n      <td>33.820000</td>\n      <td>33.820000</td>\n      <td>2078785</td>\n    </tr>\n    <tr>\n      <th>2017-01-04</th>\n      <td>33.849998</td>\n      <td>34.099998</td>\n      <td>33.099998</td>\n      <td>33.169998</td>\n      <td>33.169998</td>\n      <td>2779327</td>\n    </tr>\n    <tr>\n      <th>2017-01-05</th>\n      <td>33.169998</td>\n      <td>33.349998</td>\n      <td>32.799999</td>\n      <td>32.820000</td>\n      <td>32.820000</td>\n      <td>2869504</td>\n    </tr>\n    <tr>\n      <th>2017-01-06</th>\n      <td>32.820000</td>\n      <td>32.820000</td>\n      <td>32.820000</td>\n      <td>32.820000</td>\n      <td>32.820000</td>\n      <td>0</td>\n    </tr>\n    <tr>\n      <th>2017-01-09</th>\n      <td>32.869999</td>\n      <td>33.750000</td>\n      <td>32.560001</td>\n      <td>33.750000</td>\n      <td>33.750000</td>\n      <td>3373415</td>\n    </tr>\n    <tr>\n      <th>...</th>\n      <td>...</td>\n      <td>...</td>\n      <td>...</td>\n      <td>...</td>\n      <td>...</td>\n      <td>...</td>\n    </tr>\n    <tr>\n      <th>2018-01-24</th>\n      <td>46.619999</td>\n      <td>46.740002</td>\n      <td>46.080002</td>\n      <td>46.080002</td>\n      <td>46.080002</td>\n      <td>840628</td>\n    </tr>\n    <tr>\n      <th>2018-01-25</th>\n      <td>46.000000</td>\n      <td>47.000000</td>\n      <td>45.759998</td>\n      <td>46.599998</td>\n      <td>46.599998</td>\n      <td>1434029</td>\n    </tr>\n    <tr>\n      <th>2018-01-26</th>\n      <td>46.759998</td>\n      <td>47.340000</td>\n      <td>46.730000</td>\n      <td>47.340000</td>\n      <td>47.340000</td>\n      <td>1120409</td>\n    </tr>\n    <tr>\n      <th>2018-01-29</th>\n      <td>47.080002</td>\n      <td>47.290001</td>\n      <td>46.250000</td>\n      <td>46.500000</td>\n      <td>46.500000</td>\n      <td>1158182</td>\n    </tr>\n    <tr>\n      <th>2018-01-30</th>\n      <td>46.209999</td>\n      <td>46.220001</td>\n      <td>45.450001</td>\n      <td>45.750000</td>\n      <td>45.750000</td>\n      <td>775836</td>\n    </tr>\n  </tbody>\n</table>\n<p>271 rows × 6 columns</p>\n</div>"
     },
     "metadata": {},
     "execution_count": 7
    }
   ],
   "source": [
    "data = pdr.get_data_yahoo(\"PZU\", start=\"2017-01-01\", end=\"2020-04-30\")\n",
    "data"
   ]
  },
  {
   "cell_type": "code",
   "execution_count": null,
   "metadata": {},
   "outputs": [],
   "source": []
  }
 ]
}