{
 "metadata": {
  "language_info": {
   "codemirror_mode": {
    "name": "ipython",
    "version": 3
   },
   "file_extension": ".py",
   "mimetype": "text/x-python",
   "name": "python",
   "nbconvert_exporter": "python",
   "pygments_lexer": "ipython3",
   "version": "3.8.1-final"
  },
  "orig_nbformat": 2,
  "kernelspec": {
   "name": "python38164bitjupyterconda0d2bd17282c3412786608206568a1d2b",
   "display_name": "Python 3.8.1 64-bit ('jupyter': conda)"
  }
 },
 "nbformat": 4,
 "nbformat_minor": 2,
 "cells": [
  {
   "cell_type": "code",
   "execution_count": 1,
   "metadata": {
    "tags": []
   },
   "outputs": [
    {
     "output_type": "stream",
     "name": "stderr",
     "text": "\nBad key \"text.kerning_factor\" on line 4 in\n/home/raf/.local/bin/miniconda3/envs/jupyter/lib/python3.8/site-packages/matplotlib/mpl-data/stylelib/_classic_test_patch.mplstyle.\nYou probably need to get an updated matplotlibrc file from\nhttps://github.com/matplotlib/matplotlib/blob/v3.1.3/matplotlibrc.template\nor from the matplotlib source distribution\n"
    }
   ],
   "source": [
    "import pandas as pd\n",
    "import numpy as np\n",
    "#from pprint import pprint\n",
    "import matplotlib.pyplot as plt\n",
    "\n",
    "import warnings\n",
    "warnings.filterwarnings(\"once\")"
   ]
  },
  {
   "cell_type": "markdown",
   "metadata": {},
   "source": [
    "https://pypi.org/project/yahoo-historical/"
   ]
  },
  {
   "cell_type": "code",
   "execution_count": 2,
   "metadata": {
    "tags": []
   },
   "outputs": [
    {
     "output_type": "stream",
     "name": "stdout",
     "text": "Requirement already up-to-date: yfinance in /home/raf/.local/bin/miniconda3/envs/jupyter/lib/python3.8/site-packages (0.1.54)\nRequirement already satisfied, skipping upgrade: requests>=2.20 in /home/raf/.local/bin/miniconda3/envs/jupyter/lib/python3.8/site-packages (from yfinance) (2.23.0)\nRequirement already satisfied, skipping upgrade: numpy>=1.15 in /home/raf/.local/bin/miniconda3/envs/jupyter/lib/python3.8/site-packages (from yfinance) (1.18.1)\nRequirement already satisfied, skipping upgrade: multitasking>=0.0.7 in /home/raf/.local/bin/miniconda3/envs/jupyter/lib/python3.8/site-packages (from yfinance) (0.0.9)\nRequirement already satisfied, skipping upgrade: pandas>=0.24 in /home/raf/.local/bin/miniconda3/envs/jupyter/lib/python3.8/site-packages (from yfinance) (0.25.3)\nRequirement already satisfied, skipping upgrade: urllib3!=1.25.0,!=1.25.1,<1.26,>=1.21.1 in /home/raf/.local/bin/miniconda3/envs/jupyter/lib/python3.8/site-packages (from requests>=2.20->yfinance) (1.25.8)\nRequirement already satisfied, skipping upgrade: chardet<4,>=3.0.2 in /home/raf/.local/bin/miniconda3/envs/jupyter/lib/python3.8/site-packages (from requests>=2.20->yfinance) (3.0.4)\nRequirement already satisfied, skipping upgrade: idna<3,>=2.5 in /home/raf/.local/bin/miniconda3/envs/jupyter/lib/python3.8/site-packages (from requests>=2.20->yfinance) (2.8)\nRequirement already satisfied, skipping upgrade: certifi>=2017.4.17 in /home/raf/.local/bin/miniconda3/envs/jupyter/lib/python3.8/site-packages (from requests>=2.20->yfinance) (2020.6.20)\nRequirement already satisfied, skipping upgrade: python-dateutil>=2.6.1 in /home/raf/.local/bin/miniconda3/envs/jupyter/lib/python3.8/site-packages (from pandas>=0.24->yfinance) (2.8.1)\nRequirement already satisfied, skipping upgrade: pytz>=2017.2 in /home/raf/.local/bin/miniconda3/envs/jupyter/lib/python3.8/site-packages (from pandas>=0.24->yfinance) (2019.3)\nRequirement already satisfied, skipping upgrade: six>=1.5 in /home/raf/.local/bin/miniconda3/envs/jupyter/lib/python3.8/site-packages (from python-dateutil>=2.6.1->pandas>=0.24->yfinance) (1.14.0)\n"
    }
   ],
   "source": [
    "#!conda install -n jupyter -c ranaroussi yfinance\n",
    "!pip install yahoo-historical --upgrade --no-cache-dir"
   ]
  },
  {
   "cell_type": "code",
   "execution_count": 3,
   "metadata": {
    "tags": []
   },
   "outputs": [
    {
     "output_type": "stream",
     "name": "stderr",
     "text": "/home/raf/.local/bin/miniconda3/envs/jupyter/lib/python3.8/site-packages/yahoo_historical/fetch.py:65: DeprecationWarning: getHistorical has been deprecated, use get_historical instead\n  warnings.warn(\"getHistorical has been deprecated, use get_historical instead\", DeprecationWarning)\n"
    },
    {
     "output_type": "execute_result",
     "data": {
      "text/plain": "            Date        Open        High         Low       Close   Adj Close  \\\n0     2014-01-02   79.382858   79.575714   78.860001   79.018570   70.747330   \n1     2014-01-03   78.980003   79.099998   77.204285   77.282860   69.193306   \n2     2014-01-06   76.778572   78.114288   76.228569   77.704285   69.570625   \n3     2014-01-07   77.760002   77.994286   76.845711   77.148575   69.073074   \n4     2014-01-08   76.972855   77.937141   76.955711   77.637146   69.510536   \n...          ...         ...         ...         ...         ...         ...   \n1652  2020-07-27  374.839996  379.619995  373.920013  379.239990  379.239990   \n1653  2020-07-28  377.470001  378.200012  372.989990  373.010010  373.010010   \n1654  2020-07-29  375.000000  380.920013  374.850006  380.160004  380.160004   \n1655  2020-07-30  376.750000  385.190002  375.070007  384.760010  384.760010   \n1656  2020-07-31  411.540009  425.660004  403.299988  425.040009  425.040009   \n\n         Volume  \n0      58671200  \n1      98116900  \n2     103152700  \n3      79302300  \n4      64632400  \n...         ...  \n1652   30303500  \n1653   25906400  \n1654   22582300  \n1655   39532500  \n1656   93584200  \n\n[1657 rows x 7 columns]",
      "text/html": "<div>\n<style scoped>\n    .dataframe tbody tr th:only-of-type {\n        vertical-align: middle;\n    }\n\n    .dataframe tbody tr th {\n        vertical-align: top;\n    }\n\n    .dataframe thead th {\n        text-align: right;\n    }\n</style>\n<table border=\"1\" class=\"dataframe\">\n  <thead>\n    <tr style=\"text-align: right;\">\n      <th></th>\n      <th>Date</th>\n      <th>Open</th>\n      <th>High</th>\n      <th>Low</th>\n      <th>Close</th>\n      <th>Adj Close</th>\n      <th>Volume</th>\n    </tr>\n  </thead>\n  <tbody>\n    <tr>\n      <th>0</th>\n      <td>2014-01-02</td>\n      <td>79.382858</td>\n      <td>79.575714</td>\n      <td>78.860001</td>\n      <td>79.018570</td>\n      <td>70.747330</td>\n      <td>58671200</td>\n    </tr>\n    <tr>\n      <th>1</th>\n      <td>2014-01-03</td>\n      <td>78.980003</td>\n      <td>79.099998</td>\n      <td>77.204285</td>\n      <td>77.282860</td>\n      <td>69.193306</td>\n      <td>98116900</td>\n    </tr>\n    <tr>\n      <th>2</th>\n      <td>2014-01-06</td>\n      <td>76.778572</td>\n      <td>78.114288</td>\n      <td>76.228569</td>\n      <td>77.704285</td>\n      <td>69.570625</td>\n      <td>103152700</td>\n    </tr>\n    <tr>\n      <th>3</th>\n      <td>2014-01-07</td>\n      <td>77.760002</td>\n      <td>77.994286</td>\n      <td>76.845711</td>\n      <td>77.148575</td>\n      <td>69.073074</td>\n      <td>79302300</td>\n    </tr>\n    <tr>\n      <th>4</th>\n      <td>2014-01-08</td>\n      <td>76.972855</td>\n      <td>77.937141</td>\n      <td>76.955711</td>\n      <td>77.637146</td>\n      <td>69.510536</td>\n      <td>64632400</td>\n    </tr>\n    <tr>\n      <th>...</th>\n      <td>...</td>\n      <td>...</td>\n      <td>...</td>\n      <td>...</td>\n      <td>...</td>\n      <td>...</td>\n      <td>...</td>\n    </tr>\n    <tr>\n      <th>1652</th>\n      <td>2020-07-27</td>\n      <td>374.839996</td>\n      <td>379.619995</td>\n      <td>373.920013</td>\n      <td>379.239990</td>\n      <td>379.239990</td>\n      <td>30303500</td>\n    </tr>\n    <tr>\n      <th>1653</th>\n      <td>2020-07-28</td>\n      <td>377.470001</td>\n      <td>378.200012</td>\n      <td>372.989990</td>\n      <td>373.010010</td>\n      <td>373.010010</td>\n      <td>25906400</td>\n    </tr>\n    <tr>\n      <th>1654</th>\n      <td>2020-07-29</td>\n      <td>375.000000</td>\n      <td>380.920013</td>\n      <td>374.850006</td>\n      <td>380.160004</td>\n      <td>380.160004</td>\n      <td>22582300</td>\n    </tr>\n    <tr>\n      <th>1655</th>\n      <td>2020-07-30</td>\n      <td>376.750000</td>\n      <td>385.190002</td>\n      <td>375.070007</td>\n      <td>384.760010</td>\n      <td>384.760010</td>\n      <td>39532500</td>\n    </tr>\n    <tr>\n      <th>1656</th>\n      <td>2020-07-31</td>\n      <td>411.540009</td>\n      <td>425.660004</td>\n      <td>403.299988</td>\n      <td>425.040009</td>\n      <td>425.040009</td>\n      <td>93584200</td>\n    </tr>\n  </tbody>\n</table>\n<p>1657 rows × 7 columns</p>\n</div>"
     },
     "metadata": {},
     "execution_count": 3
    }
   ],
   "source": [
    "from yahoo_historical import Fetcher\n",
    "data = Fetcher(\"AAPL\", [2014,1,1], [2020,8,3])\n",
    "data.getHistorical()"
   ]
  }
 ]
}