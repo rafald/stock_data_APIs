{
 "metadata": {
  "language_info": {
   "codemirror_mode": {
    "name": "ipython",
    "version": 3
   },
   "file_extension": ".py",
   "mimetype": "text/x-python",
   "name": "python",
   "nbconvert_exporter": "python",
   "pygments_lexer": "ipython3",
   "version": "3.8.1-final"
  },
  "orig_nbformat": 2,
  "kernelspec": {
   "name": "python38164bitjupyterconda0d2bd17282c3412786608206568a1d2b",
   "display_name": "Python 3.8.1 64-bit ('jupyter': conda)"
  }
 },
 "nbformat": 4,
 "nbformat_minor": 2,
 "cells": [
  {
   "cell_type": "code",
   "execution_count": 1,
   "metadata": {
    "tags": []
   },
   "outputs": [
    {
     "output_type": "stream",
     "name": "stderr",
     "text": "\nBad key \"text.kerning_factor\" on line 4 in\n/home/raf/.local/bin/miniconda3/envs/jupyter/lib/python3.8/site-packages/matplotlib/mpl-data/stylelib/_classic_test_patch.mplstyle.\nYou probably need to get an updated matplotlibrc file from\nhttps://github.com/matplotlib/matplotlib/blob/v3.1.3/matplotlibrc.template\nor from the matplotlib source distribution\n"
    }
   ],
   "source": [
    "import pandas as pd\n",
    "import numpy as np\n",
    "#from pprint import pprint\n",
    "import matplotlib.pyplot as plt\n",
    "\n",
    "import warnings\n",
    "warnings.filterwarnings(\"once\")"
   ]
  },
  {
   "cell_type": "markdown",
   "metadata": {},
   "source": [
    "https://github.com/addisonlynch/iexfinance\n",
    "\n",
    "https://pypi.org/project/???\n"
   ]
  },
  {
   "cell_type": "code",
   "execution_count": 2,
   "metadata": {
    "tags": []
   },
   "outputs": [
    {
     "output_type": "stream",
     "name": "stdout",
     "text": "Requirement already up-to-date: iexfinance in /home/raf/.local/bin/miniconda3/envs/jupyter/lib/python3.8/site-packages (0.4.3)\nRequirement already satisfied, skipping upgrade: requests in /home/raf/.local/bin/miniconda3/envs/jupyter/lib/python3.8/site-packages (from iexfinance) (2.23.0)\nRequirement already satisfied, skipping upgrade: pandas in /home/raf/.local/bin/miniconda3/envs/jupyter/lib/python3.8/site-packages (from iexfinance) (0.25.3)\nRequirement already satisfied, skipping upgrade: urllib3!=1.25.0,!=1.25.1,<1.26,>=1.21.1 in /home/raf/.local/bin/miniconda3/envs/jupyter/lib/python3.8/site-packages (from requests->iexfinance) (1.25.8)\nRequirement already satisfied, skipping upgrade: certifi>=2017.4.17 in /home/raf/.local/bin/miniconda3/envs/jupyter/lib/python3.8/site-packages (from requests->iexfinance) (2020.6.20)\nRequirement already satisfied, skipping upgrade: idna<3,>=2.5 in /home/raf/.local/bin/miniconda3/envs/jupyter/lib/python3.8/site-packages (from requests->iexfinance) (2.8)\nRequirement already satisfied, skipping upgrade: chardet<4,>=3.0.2 in /home/raf/.local/bin/miniconda3/envs/jupyter/lib/python3.8/site-packages (from requests->iexfinance) (3.0.4)\nRequirement already satisfied, skipping upgrade: pytz>=2017.2 in /home/raf/.local/bin/miniconda3/envs/jupyter/lib/python3.8/site-packages (from pandas->iexfinance) (2019.3)\nRequirement already satisfied, skipping upgrade: python-dateutil>=2.6.1 in /home/raf/.local/bin/miniconda3/envs/jupyter/lib/python3.8/site-packages (from pandas->iexfinance) (2.8.1)\nRequirement already satisfied, skipping upgrade: numpy>=1.13.3 in /home/raf/.local/bin/miniconda3/envs/jupyter/lib/python3.8/site-packages (from pandas->iexfinance) (1.18.1)\nRequirement already satisfied, skipping upgrade: six>=1.5 in /home/raf/.local/bin/miniconda3/envs/jupyter/lib/python3.8/site-packages (from python-dateutil>=2.6.1->pandas->iexfinance) (1.14.0)\n"
    }
   ],
   "source": [
    "#!conda install -n jupyter iexfinance\n",
    "!pip install iexfinance --upgrade --no-cache-dir"
   ]
  },
  {
   "cell_type": "code",
   "execution_count": 3,
   "metadata": {},
   "outputs": [],
   "source": [
    "from iexfinance.stocks import Stock\n",
    "from iexfinance.refdata import get_symbols\n",
    "from datetime import datetime"
   ]
  },
  {
   "cell_type": "code",
   "execution_count": 4,
   "metadata": {
    "tags": []
   },
   "outputs": [
    {
     "output_type": "stream",
     "name": "stderr",
     "text": "/home/raf/.local/bin/miniconda3/envs/jupyter/lib/python3.8/site-packages/iexfinance/refdata/__init__.py:13: ResourceWarning: unclosed <socket.socket fd=45, family=AddressFamily.AF_INET, type=SocketKind.SOCK_STREAM, proto=6, laddr=('192.168.8.126', 40702), raddr=('35.238.109.221', 443)>\n  return Symbols(**kwargs).fetch()\nResourceWarning: Enable tracemalloc to get the object allocation traceback\n"
    },
    {
     "output_type": "execute_result",
     "data": {
      "text/plain": "     symbol exchange                                               name  \\\n0         A      NYS                          Agilent Technologies Inc.   \n1        AA      NYS                                        Alcoa Corp.   \n2      AAAU      PSE                       Perth Mint Physical Gold ETF   \n3      AACG      NAS                ATA Creativity Global Sponsored ADR   \n4     AACQU      NAS  Artius Acquisition Inc. Units Cons of 1 Shs A ...   \n...     ...      ...                                                ...   \n8931    ZUO      NYS                                 Zuora Inc. Class A   \n8932    ZVO      NAS                                         Zovio Inc.   \n8933   ZYME      NYS                                     Zymeworks Inc.   \n8934   ZYNE      NAS                        Zynerba Pharmaceuticals Inc   \n8935   ZYXI      NAS                                         Zynex Inc.   \n\n            date type                 iexId region currency  isEnabled  \\\n0     2020-08-03   cs  IEX_46574843354B2D52     US      USD       True   \n1     2020-08-03   cs  IEX_4238333734532D52     US      USD       True   \n2     2020-08-03   et  IEX_474B433136332D52     US      USD       True   \n3     2020-08-03   ad  IEX_44595A4C53392D52     US      USD       True   \n4     2020-08-03   ut  IEX_474656574E422D52     US      USD       True   \n...          ...  ...                   ...    ...      ...        ...   \n8931  2020-08-03   cs  IEX_4D474631525A2D52     US      USD       True   \n8932  2020-08-03   cs  IEX_514A435352362D52     US      USD       True   \n8933  2020-08-03   cs  IEX_5253315838322D52     US      USD       True   \n8934  2020-08-03   cs  IEX_4E3154424A382D52     US      USD       True   \n8935  2020-08-03   cs  IEX_4E464C4C4A462D52     US      USD       True   \n\n              figi      cik  \n0     BBG000C2V3D6  1090872  \n1     BBG00B3T3HD3  1675149  \n2     BBG00LPXX872     None  \n3     BBG000V2S3P6     None  \n4     BBG00VQPPKH7     None  \n...            ...      ...  \n8931  BBG000BT3HG5  1423774  \n8932  BBG000C3CQP1  1305323  \n8933  BBG00GD15LJ5  1403752  \n8934  BBG007BBS8B7  1621443  \n8935  BBG000BJBXZ2     None  \n\n[8936 rows x 11 columns]",
      "text/html": "<div>\n<style scoped>\n    .dataframe tbody tr th:only-of-type {\n        vertical-align: middle;\n    }\n\n    .dataframe tbody tr th {\n        vertical-align: top;\n    }\n\n    .dataframe thead th {\n        text-align: right;\n    }\n</style>\n<table border=\"1\" class=\"dataframe\">\n  <thead>\n    <tr style=\"text-align: right;\">\n      <th></th>\n      <th>symbol</th>\n      <th>exchange</th>\n      <th>name</th>\n      <th>date</th>\n      <th>type</th>\n      <th>iexId</th>\n      <th>region</th>\n      <th>currency</th>\n      <th>isEnabled</th>\n      <th>figi</th>\n      <th>cik</th>\n    </tr>\n  </thead>\n  <tbody>\n    <tr>\n      <th>0</th>\n      <td>A</td>\n      <td>NYS</td>\n      <td>Agilent Technologies Inc.</td>\n      <td>2020-08-03</td>\n      <td>cs</td>\n      <td>IEX_46574843354B2D52</td>\n      <td>US</td>\n      <td>USD</td>\n      <td>True</td>\n      <td>BBG000C2V3D6</td>\n      <td>1090872</td>\n    </tr>\n    <tr>\n      <th>1</th>\n      <td>AA</td>\n      <td>NYS</td>\n      <td>Alcoa Corp.</td>\n      <td>2020-08-03</td>\n      <td>cs</td>\n      <td>IEX_4238333734532D52</td>\n      <td>US</td>\n      <td>USD</td>\n      <td>True</td>\n      <td>BBG00B3T3HD3</td>\n      <td>1675149</td>\n    </tr>\n    <tr>\n      <th>2</th>\n      <td>AAAU</td>\n      <td>PSE</td>\n      <td>Perth Mint Physical Gold ETF</td>\n      <td>2020-08-03</td>\n      <td>et</td>\n      <td>IEX_474B433136332D52</td>\n      <td>US</td>\n      <td>USD</td>\n      <td>True</td>\n      <td>BBG00LPXX872</td>\n      <td>None</td>\n    </tr>\n    <tr>\n      <th>3</th>\n      <td>AACG</td>\n      <td>NAS</td>\n      <td>ATA Creativity Global Sponsored ADR</td>\n      <td>2020-08-03</td>\n      <td>ad</td>\n      <td>IEX_44595A4C53392D52</td>\n      <td>US</td>\n      <td>USD</td>\n      <td>True</td>\n      <td>BBG000V2S3P6</td>\n      <td>None</td>\n    </tr>\n    <tr>\n      <th>4</th>\n      <td>AACQU</td>\n      <td>NAS</td>\n      <td>Artius Acquisition Inc. Units Cons of 1 Shs A ...</td>\n      <td>2020-08-03</td>\n      <td>ut</td>\n      <td>IEX_474656574E422D52</td>\n      <td>US</td>\n      <td>USD</td>\n      <td>True</td>\n      <td>BBG00VQPPKH7</td>\n      <td>None</td>\n    </tr>\n    <tr>\n      <th>...</th>\n      <td>...</td>\n      <td>...</td>\n      <td>...</td>\n      <td>...</td>\n      <td>...</td>\n      <td>...</td>\n      <td>...</td>\n      <td>...</td>\n      <td>...</td>\n      <td>...</td>\n      <td>...</td>\n    </tr>\n    <tr>\n      <th>8931</th>\n      <td>ZUO</td>\n      <td>NYS</td>\n      <td>Zuora Inc. Class A</td>\n      <td>2020-08-03</td>\n      <td>cs</td>\n      <td>IEX_4D474631525A2D52</td>\n      <td>US</td>\n      <td>USD</td>\n      <td>True</td>\n      <td>BBG000BT3HG5</td>\n      <td>1423774</td>\n    </tr>\n    <tr>\n      <th>8932</th>\n      <td>ZVO</td>\n      <td>NAS</td>\n      <td>Zovio Inc.</td>\n      <td>2020-08-03</td>\n      <td>cs</td>\n      <td>IEX_514A435352362D52</td>\n      <td>US</td>\n      <td>USD</td>\n      <td>True</td>\n      <td>BBG000C3CQP1</td>\n      <td>1305323</td>\n    </tr>\n    <tr>\n      <th>8933</th>\n      <td>ZYME</td>\n      <td>NYS</td>\n      <td>Zymeworks Inc.</td>\n      <td>2020-08-03</td>\n      <td>cs</td>\n      <td>IEX_5253315838322D52</td>\n      <td>US</td>\n      <td>USD</td>\n      <td>True</td>\n      <td>BBG00GD15LJ5</td>\n      <td>1403752</td>\n    </tr>\n    <tr>\n      <th>8934</th>\n      <td>ZYNE</td>\n      <td>NAS</td>\n      <td>Zynerba Pharmaceuticals Inc</td>\n      <td>2020-08-03</td>\n      <td>cs</td>\n      <td>IEX_4E3154424A382D52</td>\n      <td>US</td>\n      <td>USD</td>\n      <td>True</td>\n      <td>BBG007BBS8B7</td>\n      <td>1621443</td>\n    </tr>\n    <tr>\n      <th>8935</th>\n      <td>ZYXI</td>\n      <td>NAS</td>\n      <td>Zynex Inc.</td>\n      <td>2020-08-03</td>\n      <td>cs</td>\n      <td>IEX_4E464C4C4A462D52</td>\n      <td>US</td>\n      <td>USD</td>\n      <td>True</td>\n      <td>BBG000BJBXZ2</td>\n      <td>None</td>\n    </tr>\n  </tbody>\n</table>\n<p>8936 rows × 11 columns</p>\n</div>"
     },
     "metadata": {},
     "execution_count": 4
    }
   ],
   "source": [
    "get_symbols(output_format='pandas', token=IEX_TOKEN)"
   ]
  },
  {
   "cell_type": "code",
   "execution_count": 4,
   "metadata": {
    "tags": []
   },
   "outputs": [
    {
     "output_type": "execute_result",
     "data": {
      "text/plain": "{'symbol': 'AAPL',\n 'companyName': 'Apple, Inc.',\n 'primaryExchange': 'NASDAQ',\n 'calculationPrice': 'close',\n 'open': None,\n 'openTime': None,\n 'openSource': 'official',\n 'close': None,\n 'closeTime': None,\n 'closeSource': 'official',\n 'high': None,\n 'highTime': 1596239999186,\n 'highSource': '15 minute delayed price',\n 'low': None,\n 'lowTime': 1596202650857,\n 'lowSource': '15 minute delayed price',\n 'latestPrice': 425.04,\n 'latestSource': 'Close',\n 'latestTime': 'July 31, 2020',\n 'latestUpdate': 1596225600546,\n 'latestVolume': None,\n 'iexRealtimePrice': None,\n 'iexRealtimeSize': None,\n 'iexLastUpdated': None,\n 'delayedPrice': None,\n 'delayedPriceTime': None,\n 'oddLotDelayedPrice': None,\n 'oddLotDelayedPriceTime': None,\n 'extendedPrice': None,\n 'extendedChange': None,\n 'extendedChangePercent': None,\n 'extendedPriceTime': None,\n 'previousClose': 384.76,\n 'previousVolume': 39532505,\n 'change': 40.28,\n 'changePercent': 0.10469,\n 'volume': None,\n 'iexMarketPercent': None,\n 'iexVolume': None,\n 'avgTotalVolume': 36990028,\n 'iexBidPrice': None,\n 'iexBidSize': None,\n 'iexAskPrice': None,\n 'iexAskSize': None,\n 'iexOpen': None,\n 'iexOpenTime': None,\n 'iexClose': 425.4,\n 'iexCloseTime': 1596225598238,\n 'marketCap': 1842267873600,\n 'peRatio': 32.02,\n 'week52High': 425.66,\n 'week52Low': 192.58,\n 'ytdChange': 0.53949,\n 'lastTradeTime': 1596225600545,\n 'isUSMarketOpen': False}"
     },
     "metadata": {},
     "execution_count": 4
    }
   ],
   "source": [
    "aapl = Stock(\"AAPL\") # token in env\n",
    "aapl.get_quote()"
   ]
  },
  {
   "cell_type": "code",
   "execution_count": 5,
   "metadata": {
    "tags": []
   },
   "outputs": [
    {
     "output_type": "error",
     "ename": "IEXQueryError",
     "evalue": "An error occurred while making the query.",
     "traceback": [
      "\u001b[0;31m---------------------------------------------------------------------------\u001b[0m",
      "\u001b[0;31mIEXQueryError\u001b[0m                             Traceback (most recent call last)",
      "\u001b[0;32m<ipython-input-5-fbaac840f11a>\u001b[0m in \u001b[0;36m<module>\u001b[0;34m\u001b[0m\n\u001b[1;32m      2\u001b[0m \u001b[0;32mfrom\u001b[0m \u001b[0miexfinance\u001b[0m\u001b[0;34m.\u001b[0m\u001b[0mstocks\u001b[0m \u001b[0;32mimport\u001b[0m \u001b[0mget_historical_data\u001b[0m\u001b[0;34m\u001b[0m\u001b[0;34m\u001b[0m\u001b[0m\n\u001b[1;32m      3\u001b[0m \u001b[0;34m\u001b[0m\u001b[0m\n\u001b[0;32m----> 4\u001b[0;31m \u001b[0mdf\u001b[0m \u001b[0;34m=\u001b[0m \u001b[0mget_historical_data\u001b[0m\u001b[0;34m(\u001b[0m\u001b[0;34m\"AAPL\"\u001b[0m\u001b[0;34m,\u001b[0m \u001b[0mstart\u001b[0m\u001b[0;34m=\u001b[0m\u001b[0mdatetime\u001b[0m\u001b[0;34m(\u001b[0m\u001b[0;36m2017\u001b[0m\u001b[0;34m,\u001b[0m \u001b[0;36m1\u001b[0m\u001b[0;34m,\u001b[0m \u001b[0;36m1\u001b[0m\u001b[0;34m)\u001b[0m\u001b[0;34m,\u001b[0m \u001b[0mend\u001b[0m\u001b[0;34m=\u001b[0m\u001b[0mdatetime\u001b[0m\u001b[0;34m(\u001b[0m\u001b[0;36m2020\u001b[0m\u001b[0;34m,\u001b[0m \u001b[0;36m7\u001b[0m\u001b[0;34m,\u001b[0m \u001b[0;36m3\u001b[0m\u001b[0;34m)\u001b[0m\u001b[0;34m,\u001b[0m \u001b[0moutput_format\u001b[0m\u001b[0;34m=\u001b[0m\u001b[0;34m'pandas'\u001b[0m\u001b[0;34m)\u001b[0m\u001b[0;34m\u001b[0m\u001b[0;34m\u001b[0m\u001b[0m\n\u001b[0m\u001b[1;32m      5\u001b[0m \u001b[0mdf\u001b[0m\u001b[0;34m\u001b[0m\u001b[0;34m\u001b[0m\u001b[0m\n",
      "\u001b[0;32m~/.local/bin/miniconda3/envs/jupyter/lib/python3.8/site-packages/iexfinance/stocks/__init__.py\u001b[0m in \u001b[0;36mget_historical_data\u001b[0;34m(symbols, start, end, close_only, **kwargs)\u001b[0m\n\u001b[1;32m     41\u001b[0m         \u001b[0mHistorical\u001b[0m \u001b[0mstock\u001b[0m \u001b[0mprices\u001b[0m \u001b[0mover\u001b[0m \u001b[0mdate\u001b[0m \u001b[0mrange\u001b[0m\u001b[0;34m,\u001b[0m \u001b[0mstart\u001b[0m \u001b[0mto\u001b[0m \u001b[0mend\u001b[0m\u001b[0;34m\u001b[0m\u001b[0;34m\u001b[0m\u001b[0m\n\u001b[1;32m     42\u001b[0m     \"\"\"\n\u001b[0;32m---> 43\u001b[0;31m     return HistoricalReader(symbols, start=start, end=end,\n\u001b[0m\u001b[1;32m     44\u001b[0m                             close_only=close_only, **kwargs).fetch()\n\u001b[1;32m     45\u001b[0m \u001b[0;34m\u001b[0m\u001b[0m\n",
      "\u001b[0;32m~/.local/bin/miniconda3/envs/jupyter/lib/python3.8/site-packages/iexfinance/base.py\u001b[0m in \u001b[0;36mfetch\u001b[0;34m(self, fmt_p, fmt_j)\u001b[0m\n\u001b[1;32m    207\u001b[0m         \"\"\"\n\u001b[1;32m    208\u001b[0m         \u001b[0murl\u001b[0m \u001b[0;34m=\u001b[0m \u001b[0mself\u001b[0m\u001b[0;34m.\u001b[0m\u001b[0m_prepare_query\u001b[0m\u001b[0;34m(\u001b[0m\u001b[0;34m)\u001b[0m\u001b[0;34m\u001b[0m\u001b[0;34m\u001b[0m\u001b[0m\n\u001b[0;32m--> 209\u001b[0;31m         \u001b[0mdata\u001b[0m \u001b[0;34m=\u001b[0m \u001b[0mself\u001b[0m\u001b[0;34m.\u001b[0m\u001b[0m_execute_iex_query\u001b[0m\u001b[0;34m(\u001b[0m\u001b[0murl\u001b[0m\u001b[0;34m)\u001b[0m\u001b[0;34m\u001b[0m\u001b[0;34m\u001b[0m\u001b[0m\n\u001b[0m\u001b[1;32m    210\u001b[0m         \u001b[0;32mreturn\u001b[0m \u001b[0mself\u001b[0m\u001b[0;34m.\u001b[0m\u001b[0m_output_format\u001b[0m\u001b[0;34m(\u001b[0m\u001b[0mdata\u001b[0m\u001b[0;34m,\u001b[0m \u001b[0mfmt_j\u001b[0m\u001b[0;34m=\u001b[0m\u001b[0mfmt_j\u001b[0m\u001b[0;34m,\u001b[0m \u001b[0mfmt_p\u001b[0m\u001b[0;34m=\u001b[0m\u001b[0mfmt_p\u001b[0m\u001b[0;34m)\u001b[0m\u001b[0;34m\u001b[0m\u001b[0;34m\u001b[0m\u001b[0m\n\u001b[1;32m    211\u001b[0m \u001b[0;34m\u001b[0m\u001b[0m\n",
      "\u001b[0;32m~/.local/bin/miniconda3/envs/jupyter/lib/python3.8/site-packages/iexfinance/base.py\u001b[0m in \u001b[0;36m_execute_iex_query\u001b[0;34m(self, url)\u001b[0m\n\u001b[1;32m    163\u001b[0m                 \u001b[0;32mreturn\u001b[0m \u001b[0mself\u001b[0m\u001b[0;34m.\u001b[0m\u001b[0m_validate_response\u001b[0m\u001b[0;34m(\u001b[0m\u001b[0mresponse\u001b[0m\u001b[0;34m)\u001b[0m\u001b[0;34m\u001b[0m\u001b[0;34m\u001b[0m\u001b[0m\n\u001b[1;32m    164\u001b[0m             \u001b[0mtime\u001b[0m\u001b[0;34m.\u001b[0m\u001b[0msleep\u001b[0m\u001b[0;34m(\u001b[0m\u001b[0mself\u001b[0m\u001b[0;34m.\u001b[0m\u001b[0mpause\u001b[0m\u001b[0;34m)\u001b[0m\u001b[0;34m\u001b[0m\u001b[0;34m\u001b[0m\u001b[0m\n\u001b[0;32m--> 165\u001b[0;31m         \u001b[0;32mreturn\u001b[0m \u001b[0mself\u001b[0m\u001b[0;34m.\u001b[0m\u001b[0m_handle_error\u001b[0m\u001b[0;34m(\u001b[0m\u001b[0mresponse\u001b[0m\u001b[0;34m)\u001b[0m\u001b[0;34m\u001b[0m\u001b[0;34m\u001b[0m\u001b[0m\n\u001b[0m\u001b[1;32m    166\u001b[0m \u001b[0;34m\u001b[0m\u001b[0m\n\u001b[1;32m    167\u001b[0m     \u001b[0;32mdef\u001b[0m \u001b[0m_handle_error\u001b[0m\u001b[0;34m(\u001b[0m\u001b[0mself\u001b[0m\u001b[0;34m,\u001b[0m \u001b[0mresponse\u001b[0m\u001b[0;34m)\u001b[0m\u001b[0;34m:\u001b[0m\u001b[0;34m\u001b[0m\u001b[0;34m\u001b[0m\u001b[0m\n",
      "\u001b[0;32m~/.local/bin/miniconda3/envs/jupyter/lib/python3.8/site-packages/iexfinance/base.py\u001b[0m in \u001b[0;36m_handle_error\u001b[0;34m(self, response)\u001b[0m\n\u001b[1;32m    176\u001b[0m                 \u001b[0;32mraise\u001b[0m \u001b[0mauth_error\u001b[0m\u001b[0;34m(\u001b[0m\u001b[0mauth_msg\u001b[0m\u001b[0;34m)\u001b[0m\u001b[0;34m\u001b[0m\u001b[0;34m\u001b[0m\u001b[0m\n\u001b[1;32m    177\u001b[0m             \u001b[0;32melse\u001b[0m\u001b[0;34m:\u001b[0m\u001b[0;34m\u001b[0m\u001b[0;34m\u001b[0m\u001b[0m\n\u001b[0;32m--> 178\u001b[0;31m                 raise IEXQueryError(\"The query could not be completed. \"\n\u001b[0m\u001b[1;32m    179\u001b[0m                                     \u001b[0;34m\"There was a client-side error with your \"\u001b[0m\u001b[0;34m\u001b[0m\u001b[0;34m\u001b[0m\u001b[0m\n\u001b[1;32m    180\u001b[0m                                     \"request.\")\n",
      "\u001b[0;31mIEXQueryError\u001b[0m: An error occurred while making the query."
     ]
    }
   ],
   "source": [
    "from datetime import datetime\n",
    "from iexfinance.stocks import get_historical_data\n",
    "\n",
    "df = get_historical_data(\"AAPL\", start=datetime(2017, 1, 1), end=datetime(2020, 7, 3), output_format='pandas')\n",
    "df"
   ]
  },
  {
   "cell_type": "code",
   "execution_count": 6,
   "metadata": {},
   "outputs": [
    {
     "output_type": "error",
     "ename": "IEXQueryError",
     "evalue": "An error occurred while making the query.",
     "traceback": [
      "\u001b[0;31m---------------------------------------------------------------------------\u001b[0m",
      "\u001b[0;31mIEXQueryError\u001b[0m                             Traceback (most recent call last)",
      "\u001b[0;32m<ipython-input-6-764c19b76004>\u001b[0m in \u001b[0;36m<module>\u001b[0;34m\u001b[0m\n\u001b[1;32m      1\u001b[0m \u001b[0mbatch\u001b[0m \u001b[0;34m=\u001b[0m \u001b[0mStock\u001b[0m\u001b[0;34m(\u001b[0m\u001b[0;34m[\u001b[0m\u001b[0;34m\"TSLA\"\u001b[0m\u001b[0;34m,\u001b[0m \u001b[0;34m\"AAPL\"\u001b[0m\u001b[0;34m]\u001b[0m\u001b[0;34m)\u001b[0m\u001b[0;34m\u001b[0m\u001b[0;34m\u001b[0m\u001b[0m\n\u001b[0;32m----> 2\u001b[0;31m \u001b[0mbatch\u001b[0m\u001b[0;34m.\u001b[0m\u001b[0mget_price\u001b[0m\u001b[0;34m(\u001b[0m\u001b[0;34m)\u001b[0m\u001b[0;34m\u001b[0m\u001b[0;34m\u001b[0m\u001b[0m\n\u001b[0m",
      "\u001b[0;32m~/.local/bin/miniconda3/envs/jupyter/lib/python3.8/site-packages/iexfinance/stocks/base.py\u001b[0m in \u001b[0;36mget_price\u001b[0;34m(self)\u001b[0m\n\u001b[1;32m    754\u001b[0m             \u001b[0;32mreturn\u001b[0m \u001b[0mpd\u001b[0m\u001b[0;34m.\u001b[0m\u001b[0mDataFrame\u001b[0m\u001b[0;34m(\u001b[0m\u001b[0mout\u001b[0m\u001b[0;34m,\u001b[0m \u001b[0mindex\u001b[0m\u001b[0;34m=\u001b[0m\u001b[0mself\u001b[0m\u001b[0;34m.\u001b[0m\u001b[0msymbols\u001b[0m\u001b[0;34m)\u001b[0m\u001b[0;34m\u001b[0m\u001b[0;34m\u001b[0m\u001b[0m\n\u001b[1;32m    755\u001b[0m \u001b[0;34m\u001b[0m\u001b[0m\n\u001b[0;32m--> 756\u001b[0;31m         \u001b[0;32mreturn\u001b[0m \u001b[0mself\u001b[0m\u001b[0;34m.\u001b[0m\u001b[0m_get_endpoint\u001b[0m\u001b[0;34m(\u001b[0m\u001b[0;34m\"price\"\u001b[0m\u001b[0;34m,\u001b[0m \u001b[0mfmt_p\u001b[0m\u001b[0;34m=\u001b[0m\u001b[0mfmt_p\u001b[0m\u001b[0;34m)\u001b[0m\u001b[0;34m\u001b[0m\u001b[0;34m\u001b[0m\u001b[0m\n\u001b[0m\u001b[1;32m    757\u001b[0m \u001b[0;34m\u001b[0m\u001b[0m\n\u001b[1;32m    758\u001b[0m     \u001b[0;32mdef\u001b[0m \u001b[0mget_price_target\u001b[0m\u001b[0;34m(\u001b[0m\u001b[0mself\u001b[0m\u001b[0;34m)\u001b[0m\u001b[0;34m:\u001b[0m\u001b[0;34m\u001b[0m\u001b[0;34m\u001b[0m\u001b[0m\n",
      "\u001b[0;32m~/.local/bin/miniconda3/envs/jupyter/lib/python3.8/site-packages/iexfinance/stocks/base.py\u001b[0m in \u001b[0;36m_get_endpoint\u001b[0;34m(self, endpoint, params, fmt_p, fmt_j, filter_)\u001b[0m\n\u001b[1;32m    101\u001b[0m         \u001b[0mself\u001b[0m\u001b[0;34m.\u001b[0m\u001b[0mendpoints\u001b[0m \u001b[0;34m=\u001b[0m \u001b[0;34m[\u001b[0m\u001b[0mendpoint\u001b[0m\u001b[0;34m]\u001b[0m\u001b[0;34m\u001b[0m\u001b[0;34m\u001b[0m\u001b[0m\n\u001b[1;32m    102\u001b[0m \u001b[0;34m\u001b[0m\u001b[0m\n\u001b[0;32m--> 103\u001b[0;31m         \u001b[0mdata\u001b[0m \u001b[0;34m=\u001b[0m \u001b[0mself\u001b[0m\u001b[0;34m.\u001b[0m\u001b[0mfetch\u001b[0m\u001b[0;34m(\u001b[0m\u001b[0mfmt_j\u001b[0m\u001b[0;34m=\u001b[0m\u001b[0mfmt_j\u001b[0m\u001b[0;34m,\u001b[0m \u001b[0mfmt_p\u001b[0m\u001b[0;34m=\u001b[0m\u001b[0mno_pandas\u001b[0m\u001b[0;34m)\u001b[0m\u001b[0;34m\u001b[0m\u001b[0;34m\u001b[0m\u001b[0m\n\u001b[0m\u001b[1;32m    104\u001b[0m         \u001b[0;31m# IEX Cloud returns multiple symbol requests as as a list of dicts\u001b[0m\u001b[0;34m\u001b[0m\u001b[0;34m\u001b[0m\u001b[0;34m\u001b[0m\u001b[0m\n\u001b[1;32m    105\u001b[0m         \u001b[0;31m# so convert to dict of dicts\u001b[0m\u001b[0;34m\u001b[0m\u001b[0;34m\u001b[0m\u001b[0;34m\u001b[0m\u001b[0m\n",
      "\u001b[0;32m~/.local/bin/miniconda3/envs/jupyter/lib/python3.8/site-packages/iexfinance/base.py\u001b[0m in \u001b[0;36mfetch\u001b[0;34m(self, fmt_p, fmt_j)\u001b[0m\n\u001b[1;32m    207\u001b[0m         \"\"\"\n\u001b[1;32m    208\u001b[0m         \u001b[0murl\u001b[0m \u001b[0;34m=\u001b[0m \u001b[0mself\u001b[0m\u001b[0;34m.\u001b[0m\u001b[0m_prepare_query\u001b[0m\u001b[0;34m(\u001b[0m\u001b[0;34m)\u001b[0m\u001b[0;34m\u001b[0m\u001b[0;34m\u001b[0m\u001b[0m\n\u001b[0;32m--> 209\u001b[0;31m         \u001b[0mdata\u001b[0m \u001b[0;34m=\u001b[0m \u001b[0mself\u001b[0m\u001b[0;34m.\u001b[0m\u001b[0m_execute_iex_query\u001b[0m\u001b[0;34m(\u001b[0m\u001b[0murl\u001b[0m\u001b[0;34m)\u001b[0m\u001b[0;34m\u001b[0m\u001b[0;34m\u001b[0m\u001b[0m\n\u001b[0m\u001b[1;32m    210\u001b[0m         \u001b[0;32mreturn\u001b[0m \u001b[0mself\u001b[0m\u001b[0;34m.\u001b[0m\u001b[0m_output_format\u001b[0m\u001b[0;34m(\u001b[0m\u001b[0mdata\u001b[0m\u001b[0;34m,\u001b[0m \u001b[0mfmt_j\u001b[0m\u001b[0;34m=\u001b[0m\u001b[0mfmt_j\u001b[0m\u001b[0;34m,\u001b[0m \u001b[0mfmt_p\u001b[0m\u001b[0;34m=\u001b[0m\u001b[0mfmt_p\u001b[0m\u001b[0;34m)\u001b[0m\u001b[0;34m\u001b[0m\u001b[0;34m\u001b[0m\u001b[0m\n\u001b[1;32m    211\u001b[0m \u001b[0;34m\u001b[0m\u001b[0m\n",
      "\u001b[0;32m~/.local/bin/miniconda3/envs/jupyter/lib/python3.8/site-packages/iexfinance/base.py\u001b[0m in \u001b[0;36m_execute_iex_query\u001b[0;34m(self, url)\u001b[0m\n\u001b[1;32m    163\u001b[0m                 \u001b[0;32mreturn\u001b[0m \u001b[0mself\u001b[0m\u001b[0;34m.\u001b[0m\u001b[0m_validate_response\u001b[0m\u001b[0;34m(\u001b[0m\u001b[0mresponse\u001b[0m\u001b[0;34m)\u001b[0m\u001b[0;34m\u001b[0m\u001b[0;34m\u001b[0m\u001b[0m\n\u001b[1;32m    164\u001b[0m             \u001b[0mtime\u001b[0m\u001b[0;34m.\u001b[0m\u001b[0msleep\u001b[0m\u001b[0;34m(\u001b[0m\u001b[0mself\u001b[0m\u001b[0;34m.\u001b[0m\u001b[0mpause\u001b[0m\u001b[0;34m)\u001b[0m\u001b[0;34m\u001b[0m\u001b[0;34m\u001b[0m\u001b[0m\n\u001b[0;32m--> 165\u001b[0;31m         \u001b[0;32mreturn\u001b[0m \u001b[0mself\u001b[0m\u001b[0;34m.\u001b[0m\u001b[0m_handle_error\u001b[0m\u001b[0;34m(\u001b[0m\u001b[0mresponse\u001b[0m\u001b[0;34m)\u001b[0m\u001b[0;34m\u001b[0m\u001b[0;34m\u001b[0m\u001b[0m\n\u001b[0m\u001b[1;32m    166\u001b[0m \u001b[0;34m\u001b[0m\u001b[0m\n\u001b[1;32m    167\u001b[0m     \u001b[0;32mdef\u001b[0m \u001b[0m_handle_error\u001b[0m\u001b[0;34m(\u001b[0m\u001b[0mself\u001b[0m\u001b[0;34m,\u001b[0m \u001b[0mresponse\u001b[0m\u001b[0;34m)\u001b[0m\u001b[0;34m:\u001b[0m\u001b[0;34m\u001b[0m\u001b[0;34m\u001b[0m\u001b[0m\n",
      "\u001b[0;32m~/.local/bin/miniconda3/envs/jupyter/lib/python3.8/site-packages/iexfinance/base.py\u001b[0m in \u001b[0;36m_handle_error\u001b[0;34m(self, response)\u001b[0m\n\u001b[1;32m    176\u001b[0m                 \u001b[0;32mraise\u001b[0m \u001b[0mauth_error\u001b[0m\u001b[0;34m(\u001b[0m\u001b[0mauth_msg\u001b[0m\u001b[0;34m)\u001b[0m\u001b[0;34m\u001b[0m\u001b[0;34m\u001b[0m\u001b[0m\n\u001b[1;32m    177\u001b[0m             \u001b[0;32melse\u001b[0m\u001b[0;34m:\u001b[0m\u001b[0;34m\u001b[0m\u001b[0;34m\u001b[0m\u001b[0m\n\u001b[0;32m--> 178\u001b[0;31m                 raise IEXQueryError(\"The query could not be completed. \"\n\u001b[0m\u001b[1;32m    179\u001b[0m                                     \u001b[0;34m\"There was a client-side error with your \"\u001b[0m\u001b[0;34m\u001b[0m\u001b[0;34m\u001b[0m\u001b[0m\n\u001b[1;32m    180\u001b[0m                                     \"request.\")\n",
      "\u001b[0;31mIEXQueryError\u001b[0m: An error occurred while making the query."
     ]
    }
   ],
   "source": [
    "batch = Stock([\"TSLA\", \"AAPL\"])\n",
    "batch.get_price()"
   ]
  },
  {
   "cell_type": "code",
   "execution_count": 7,
   "metadata": {},
   "outputs": [
    {
     "output_type": "error",
     "ename": "IEXQueryError",
     "evalue": "An error occurred while making the query.",
     "traceback": [
      "\u001b[0;31m---------------------------------------------------------------------------\u001b[0m",
      "\u001b[0;31mIEXQueryError\u001b[0m                             Traceback (most recent call last)",
      "\u001b[0;32m<ipython-input-7-b6ff932d2c2e>\u001b[0m in \u001b[0;36m<module>\u001b[0;34m\u001b[0m\n\u001b[0;32m----> 1\u001b[0;31m \u001b[0maapl\u001b[0m\u001b[0;34m.\u001b[0m\u001b[0mget_balance_sheet\u001b[0m\u001b[0;34m(\u001b[0m\u001b[0;34m)\u001b[0m \u001b[0;31m# why an error ?\u001b[0m\u001b[0;34m\u001b[0m\u001b[0;34m\u001b[0m\u001b[0m\n\u001b[0m",
      "\u001b[0;32m~/.local/bin/miniconda3/envs/jupyter/lib/python3.8/site-packages/iexfinance/stocks/base.py\u001b[0m in \u001b[0;36mget_balance_sheet\u001b[0;34m(self, **kwargs)\u001b[0m\n\u001b[1;32m    191\u001b[0m             \u001b[0;32mreturn\u001b[0m \u001b[0mpd\u001b[0m\u001b[0;34m.\u001b[0m\u001b[0mDataFrame\u001b[0m\u001b[0;34m(\u001b[0m\u001b[0mdata\u001b[0m\u001b[0;34m)\u001b[0m\u001b[0;34m\u001b[0m\u001b[0;34m\u001b[0m\u001b[0m\n\u001b[1;32m    192\u001b[0m \u001b[0;34m\u001b[0m\u001b[0m\n\u001b[0;32m--> 193\u001b[0;31m         \u001b[0;32mreturn\u001b[0m \u001b[0mself\u001b[0m\u001b[0;34m.\u001b[0m\u001b[0m_get_endpoint\u001b[0m\u001b[0;34m(\u001b[0m\u001b[0;34m\"balance-sheet\"\u001b[0m\u001b[0;34m,\u001b[0m \u001b[0mfmt_p\u001b[0m\u001b[0;34m=\u001b[0m\u001b[0mfmt_p\u001b[0m\u001b[0;34m,\u001b[0m \u001b[0mparams\u001b[0m\u001b[0;34m=\u001b[0m\u001b[0mkwargs\u001b[0m\u001b[0;34m)\u001b[0m\u001b[0;34m\u001b[0m\u001b[0;34m\u001b[0m\u001b[0m\n\u001b[0m\u001b[1;32m    194\u001b[0m \u001b[0;34m\u001b[0m\u001b[0m\n\u001b[1;32m    195\u001b[0m     \u001b[0;32mdef\u001b[0m \u001b[0mget_book\u001b[0m\u001b[0;34m(\u001b[0m\u001b[0mself\u001b[0m\u001b[0;34m)\u001b[0m\u001b[0;34m:\u001b[0m\u001b[0;34m\u001b[0m\u001b[0;34m\u001b[0m\u001b[0m\n",
      "\u001b[0;32m~/.local/bin/miniconda3/envs/jupyter/lib/python3.8/site-packages/iexfinance/stocks/base.py\u001b[0m in \u001b[0;36m_get_endpoint\u001b[0;34m(self, endpoint, params, fmt_p, fmt_j, filter_)\u001b[0m\n\u001b[1;32m    101\u001b[0m         \u001b[0mself\u001b[0m\u001b[0;34m.\u001b[0m\u001b[0mendpoints\u001b[0m \u001b[0;34m=\u001b[0m \u001b[0;34m[\u001b[0m\u001b[0mendpoint\u001b[0m\u001b[0;34m]\u001b[0m\u001b[0;34m\u001b[0m\u001b[0;34m\u001b[0m\u001b[0m\n\u001b[1;32m    102\u001b[0m \u001b[0;34m\u001b[0m\u001b[0m\n\u001b[0;32m--> 103\u001b[0;31m         \u001b[0mdata\u001b[0m \u001b[0;34m=\u001b[0m \u001b[0mself\u001b[0m\u001b[0;34m.\u001b[0m\u001b[0mfetch\u001b[0m\u001b[0;34m(\u001b[0m\u001b[0mfmt_j\u001b[0m\u001b[0;34m=\u001b[0m\u001b[0mfmt_j\u001b[0m\u001b[0;34m,\u001b[0m \u001b[0mfmt_p\u001b[0m\u001b[0;34m=\u001b[0m\u001b[0mno_pandas\u001b[0m\u001b[0;34m)\u001b[0m\u001b[0;34m\u001b[0m\u001b[0;34m\u001b[0m\u001b[0m\n\u001b[0m\u001b[1;32m    104\u001b[0m         \u001b[0;31m# IEX Cloud returns multiple symbol requests as as a list of dicts\u001b[0m\u001b[0;34m\u001b[0m\u001b[0;34m\u001b[0m\u001b[0;34m\u001b[0m\u001b[0m\n\u001b[1;32m    105\u001b[0m         \u001b[0;31m# so convert to dict of dicts\u001b[0m\u001b[0;34m\u001b[0m\u001b[0;34m\u001b[0m\u001b[0;34m\u001b[0m\u001b[0m\n",
      "\u001b[0;32m~/.local/bin/miniconda3/envs/jupyter/lib/python3.8/site-packages/iexfinance/base.py\u001b[0m in \u001b[0;36mfetch\u001b[0;34m(self, fmt_p, fmt_j)\u001b[0m\n\u001b[1;32m    207\u001b[0m         \"\"\"\n\u001b[1;32m    208\u001b[0m         \u001b[0murl\u001b[0m \u001b[0;34m=\u001b[0m \u001b[0mself\u001b[0m\u001b[0;34m.\u001b[0m\u001b[0m_prepare_query\u001b[0m\u001b[0;34m(\u001b[0m\u001b[0;34m)\u001b[0m\u001b[0;34m\u001b[0m\u001b[0;34m\u001b[0m\u001b[0m\n\u001b[0;32m--> 209\u001b[0;31m         \u001b[0mdata\u001b[0m \u001b[0;34m=\u001b[0m \u001b[0mself\u001b[0m\u001b[0;34m.\u001b[0m\u001b[0m_execute_iex_query\u001b[0m\u001b[0;34m(\u001b[0m\u001b[0murl\u001b[0m\u001b[0;34m)\u001b[0m\u001b[0;34m\u001b[0m\u001b[0;34m\u001b[0m\u001b[0m\n\u001b[0m\u001b[1;32m    210\u001b[0m         \u001b[0;32mreturn\u001b[0m \u001b[0mself\u001b[0m\u001b[0;34m.\u001b[0m\u001b[0m_output_format\u001b[0m\u001b[0;34m(\u001b[0m\u001b[0mdata\u001b[0m\u001b[0;34m,\u001b[0m \u001b[0mfmt_j\u001b[0m\u001b[0;34m=\u001b[0m\u001b[0mfmt_j\u001b[0m\u001b[0;34m,\u001b[0m \u001b[0mfmt_p\u001b[0m\u001b[0;34m=\u001b[0m\u001b[0mfmt_p\u001b[0m\u001b[0;34m)\u001b[0m\u001b[0;34m\u001b[0m\u001b[0;34m\u001b[0m\u001b[0m\n\u001b[1;32m    211\u001b[0m \u001b[0;34m\u001b[0m\u001b[0m\n",
      "\u001b[0;32m~/.local/bin/miniconda3/envs/jupyter/lib/python3.8/site-packages/iexfinance/base.py\u001b[0m in \u001b[0;36m_execute_iex_query\u001b[0;34m(self, url)\u001b[0m\n\u001b[1;32m    163\u001b[0m                 \u001b[0;32mreturn\u001b[0m \u001b[0mself\u001b[0m\u001b[0;34m.\u001b[0m\u001b[0m_validate_response\u001b[0m\u001b[0;34m(\u001b[0m\u001b[0mresponse\u001b[0m\u001b[0;34m)\u001b[0m\u001b[0;34m\u001b[0m\u001b[0;34m\u001b[0m\u001b[0m\n\u001b[1;32m    164\u001b[0m             \u001b[0mtime\u001b[0m\u001b[0;34m.\u001b[0m\u001b[0msleep\u001b[0m\u001b[0;34m(\u001b[0m\u001b[0mself\u001b[0m\u001b[0;34m.\u001b[0m\u001b[0mpause\u001b[0m\u001b[0;34m)\u001b[0m\u001b[0;34m\u001b[0m\u001b[0;34m\u001b[0m\u001b[0m\n\u001b[0;32m--> 165\u001b[0;31m         \u001b[0;32mreturn\u001b[0m \u001b[0mself\u001b[0m\u001b[0;34m.\u001b[0m\u001b[0m_handle_error\u001b[0m\u001b[0;34m(\u001b[0m\u001b[0mresponse\u001b[0m\u001b[0;34m)\u001b[0m\u001b[0;34m\u001b[0m\u001b[0;34m\u001b[0m\u001b[0m\n\u001b[0m\u001b[1;32m    166\u001b[0m \u001b[0;34m\u001b[0m\u001b[0m\n\u001b[1;32m    167\u001b[0m     \u001b[0;32mdef\u001b[0m \u001b[0m_handle_error\u001b[0m\u001b[0;34m(\u001b[0m\u001b[0mself\u001b[0m\u001b[0;34m,\u001b[0m \u001b[0mresponse\u001b[0m\u001b[0;34m)\u001b[0m\u001b[0;34m:\u001b[0m\u001b[0;34m\u001b[0m\u001b[0;34m\u001b[0m\u001b[0m\n",
      "\u001b[0;32m~/.local/bin/miniconda3/envs/jupyter/lib/python3.8/site-packages/iexfinance/base.py\u001b[0m in \u001b[0;36m_handle_error\u001b[0;34m(self, response)\u001b[0m\n\u001b[1;32m    176\u001b[0m                 \u001b[0;32mraise\u001b[0m \u001b[0mauth_error\u001b[0m\u001b[0;34m(\u001b[0m\u001b[0mauth_msg\u001b[0m\u001b[0;34m)\u001b[0m\u001b[0;34m\u001b[0m\u001b[0;34m\u001b[0m\u001b[0m\n\u001b[1;32m    177\u001b[0m             \u001b[0;32melse\u001b[0m\u001b[0;34m:\u001b[0m\u001b[0;34m\u001b[0m\u001b[0;34m\u001b[0m\u001b[0m\n\u001b[0;32m--> 178\u001b[0;31m                 raise IEXQueryError(\"The query could not be completed. \"\n\u001b[0m\u001b[1;32m    179\u001b[0m                                     \u001b[0;34m\"There was a client-side error with your \"\u001b[0m\u001b[0;34m\u001b[0m\u001b[0;34m\u001b[0m\u001b[0m\n\u001b[1;32m    180\u001b[0m                                     \"request.\")\n",
      "\u001b[0;31mIEXQueryError\u001b[0m: An error occurred while making the query."
     ]
    }
   ],
   "source": [
    "aapl.get_balance_sheet() # why an error ?"
   ]
  },
  {
   "cell_type": "code",
   "execution_count": 8,
   "metadata": {
    "tags": []
   },
   "outputs": [
    {
     "output_type": "stream",
     "name": "stderr",
     "text": "/home/raf/.local/bin/miniconda3/envs/jupyter/lib/python3.8/site-packages/iexfinance/altdata/__init__.py:48: UserWarning: UNSTABLE ENDPOINT: Not yet fully implemented by the provider.\n  warnings.warn(\"UNSTABLE ENDPOINT: Not yet fully implemented by the \"\n"
    },
    {
     "output_type": "error",
     "ename": "IEXQueryError",
     "evalue": "An error occurred while making the query.",
     "traceback": [
      "\u001b[0;31m---------------------------------------------------------------------------\u001b[0m",
      "\u001b[0;31mIEXQueryError\u001b[0m                             Traceback (most recent call last)",
      "\u001b[0;32m<ipython-input-8-747a8a0e3399>\u001b[0m in \u001b[0;36m<module>\u001b[0;34m\u001b[0m\n\u001b[1;32m      1\u001b[0m \u001b[0;32mfrom\u001b[0m \u001b[0miexfinance\u001b[0m\u001b[0;34m.\u001b[0m\u001b[0maltdata\u001b[0m \u001b[0;32mimport\u001b[0m \u001b[0mget_social_sentiment\u001b[0m\u001b[0;34m\u001b[0m\u001b[0;34m\u001b[0m\u001b[0m\n\u001b[0;32m----> 2\u001b[0;31m \u001b[0mget_social_sentiment\u001b[0m\u001b[0;34m(\u001b[0m\u001b[0;34m\"AAPL\"\u001b[0m\u001b[0;34m)\u001b[0m\u001b[0;34m\u001b[0m\u001b[0;34m\u001b[0m\u001b[0m\n\u001b[0m",
      "\u001b[0;32m~/.local/bin/miniconda3/envs/jupyter/lib/python3.8/site-packages/iexfinance/altdata/__init__.py\u001b[0m in \u001b[0;36mget_social_sentiment\u001b[0;34m(symbol, period_type, date, **kwargs)\u001b[0m\n\u001b[1;32m     48\u001b[0m     warnings.warn(\"UNSTABLE ENDPOINT: Not yet fully implemented by the \"\n\u001b[1;32m     49\u001b[0m                   \"provider.\")\n\u001b[0;32m---> 50\u001b[0;31m     \u001b[0;32mreturn\u001b[0m \u001b[0mSocialSentiment\u001b[0m\u001b[0;34m(\u001b[0m\u001b[0msymbol\u001b[0m\u001b[0;34m,\u001b[0m \u001b[0mperiod_type\u001b[0m\u001b[0;34m,\u001b[0m \u001b[0mdate\u001b[0m\u001b[0;34m,\u001b[0m \u001b[0;34m**\u001b[0m\u001b[0mkwargs\u001b[0m\u001b[0;34m)\u001b[0m\u001b[0;34m.\u001b[0m\u001b[0mfetch\u001b[0m\u001b[0;34m(\u001b[0m\u001b[0;34m)\u001b[0m\u001b[0;34m\u001b[0m\u001b[0;34m\u001b[0m\u001b[0m\n\u001b[0m\u001b[1;32m     51\u001b[0m \u001b[0;34m\u001b[0m\u001b[0m\n\u001b[1;32m     52\u001b[0m \u001b[0;34m\u001b[0m\u001b[0m\n",
      "\u001b[0;32m~/.local/bin/miniconda3/envs/jupyter/lib/python3.8/site-packages/iexfinance/altdata/base.py\u001b[0m in \u001b[0;36mfetch\u001b[0;34m(self)\u001b[0m\n\u001b[1;32m     48\u001b[0m \u001b[0;34m\u001b[0m\u001b[0m\n\u001b[1;32m     49\u001b[0m     \u001b[0;32mdef\u001b[0m \u001b[0mfetch\u001b[0m\u001b[0;34m(\u001b[0m\u001b[0mself\u001b[0m\u001b[0;34m)\u001b[0m\u001b[0;34m:\u001b[0m\u001b[0;34m\u001b[0m\u001b[0;34m\u001b[0m\u001b[0m\n\u001b[0;32m---> 50\u001b[0;31m         \u001b[0;32mreturn\u001b[0m \u001b[0msuper\u001b[0m\u001b[0;34m(\u001b[0m\u001b[0mSocialSentiment\u001b[0m\u001b[0;34m,\u001b[0m \u001b[0mself\u001b[0m\u001b[0;34m)\u001b[0m\u001b[0;34m.\u001b[0m\u001b[0mfetch\u001b[0m\u001b[0;34m(\u001b[0m\u001b[0;34m)\u001b[0m\u001b[0;34m\u001b[0m\u001b[0;34m\u001b[0m\u001b[0m\n\u001b[0m\u001b[1;32m     51\u001b[0m \u001b[0;34m\u001b[0m\u001b[0m\n\u001b[1;32m     52\u001b[0m \u001b[0;34m\u001b[0m\u001b[0m\n",
      "\u001b[0;32m~/.local/bin/miniconda3/envs/jupyter/lib/python3.8/site-packages/iexfinance/base.py\u001b[0m in \u001b[0;36mfetch\u001b[0;34m(self, fmt_p, fmt_j)\u001b[0m\n\u001b[1;32m    207\u001b[0m         \"\"\"\n\u001b[1;32m    208\u001b[0m         \u001b[0murl\u001b[0m \u001b[0;34m=\u001b[0m \u001b[0mself\u001b[0m\u001b[0;34m.\u001b[0m\u001b[0m_prepare_query\u001b[0m\u001b[0;34m(\u001b[0m\u001b[0;34m)\u001b[0m\u001b[0;34m\u001b[0m\u001b[0;34m\u001b[0m\u001b[0m\n\u001b[0;32m--> 209\u001b[0;31m         \u001b[0mdata\u001b[0m \u001b[0;34m=\u001b[0m \u001b[0mself\u001b[0m\u001b[0;34m.\u001b[0m\u001b[0m_execute_iex_query\u001b[0m\u001b[0;34m(\u001b[0m\u001b[0murl\u001b[0m\u001b[0;34m)\u001b[0m\u001b[0;34m\u001b[0m\u001b[0;34m\u001b[0m\u001b[0m\n\u001b[0m\u001b[1;32m    210\u001b[0m         \u001b[0;32mreturn\u001b[0m \u001b[0mself\u001b[0m\u001b[0;34m.\u001b[0m\u001b[0m_output_format\u001b[0m\u001b[0;34m(\u001b[0m\u001b[0mdata\u001b[0m\u001b[0;34m,\u001b[0m \u001b[0mfmt_j\u001b[0m\u001b[0;34m=\u001b[0m\u001b[0mfmt_j\u001b[0m\u001b[0;34m,\u001b[0m \u001b[0mfmt_p\u001b[0m\u001b[0;34m=\u001b[0m\u001b[0mfmt_p\u001b[0m\u001b[0;34m)\u001b[0m\u001b[0;34m\u001b[0m\u001b[0;34m\u001b[0m\u001b[0m\n\u001b[1;32m    211\u001b[0m \u001b[0;34m\u001b[0m\u001b[0m\n",
      "\u001b[0;32m~/.local/bin/miniconda3/envs/jupyter/lib/python3.8/site-packages/iexfinance/base.py\u001b[0m in \u001b[0;36m_execute_iex_query\u001b[0;34m(self, url)\u001b[0m\n\u001b[1;32m    163\u001b[0m                 \u001b[0;32mreturn\u001b[0m \u001b[0mself\u001b[0m\u001b[0;34m.\u001b[0m\u001b[0m_validate_response\u001b[0m\u001b[0;34m(\u001b[0m\u001b[0mresponse\u001b[0m\u001b[0;34m)\u001b[0m\u001b[0;34m\u001b[0m\u001b[0;34m\u001b[0m\u001b[0m\n\u001b[1;32m    164\u001b[0m             \u001b[0mtime\u001b[0m\u001b[0;34m.\u001b[0m\u001b[0msleep\u001b[0m\u001b[0;34m(\u001b[0m\u001b[0mself\u001b[0m\u001b[0;34m.\u001b[0m\u001b[0mpause\u001b[0m\u001b[0;34m)\u001b[0m\u001b[0;34m\u001b[0m\u001b[0;34m\u001b[0m\u001b[0m\n\u001b[0;32m--> 165\u001b[0;31m         \u001b[0;32mreturn\u001b[0m \u001b[0mself\u001b[0m\u001b[0;34m.\u001b[0m\u001b[0m_handle_error\u001b[0m\u001b[0;34m(\u001b[0m\u001b[0mresponse\u001b[0m\u001b[0;34m)\u001b[0m\u001b[0;34m\u001b[0m\u001b[0;34m\u001b[0m\u001b[0m\n\u001b[0m\u001b[1;32m    166\u001b[0m \u001b[0;34m\u001b[0m\u001b[0m\n\u001b[1;32m    167\u001b[0m     \u001b[0;32mdef\u001b[0m \u001b[0m_handle_error\u001b[0m\u001b[0;34m(\u001b[0m\u001b[0mself\u001b[0m\u001b[0;34m,\u001b[0m \u001b[0mresponse\u001b[0m\u001b[0;34m)\u001b[0m\u001b[0;34m:\u001b[0m\u001b[0;34m\u001b[0m\u001b[0;34m\u001b[0m\u001b[0m\n",
      "\u001b[0;32m~/.local/bin/miniconda3/envs/jupyter/lib/python3.8/site-packages/iexfinance/base.py\u001b[0m in \u001b[0;36m_handle_error\u001b[0;34m(self, response)\u001b[0m\n\u001b[1;32m    176\u001b[0m                 \u001b[0;32mraise\u001b[0m \u001b[0mauth_error\u001b[0m\u001b[0;34m(\u001b[0m\u001b[0mauth_msg\u001b[0m\u001b[0;34m)\u001b[0m\u001b[0;34m\u001b[0m\u001b[0;34m\u001b[0m\u001b[0m\n\u001b[1;32m    177\u001b[0m             \u001b[0;32melse\u001b[0m\u001b[0;34m:\u001b[0m\u001b[0;34m\u001b[0m\u001b[0;34m\u001b[0m\u001b[0m\n\u001b[0;32m--> 178\u001b[0;31m                 raise IEXQueryError(\"The query could not be completed. \"\n\u001b[0m\u001b[1;32m    179\u001b[0m                                     \u001b[0;34m\"There was a client-side error with your \"\u001b[0m\u001b[0;34m\u001b[0m\u001b[0;34m\u001b[0m\u001b[0m\n\u001b[1;32m    180\u001b[0m                                     \"request.\")\n",
      "\u001b[0;31mIEXQueryError\u001b[0m: An error occurred while making the query."
     ]
    }
   ],
   "source": [
    "from iexfinance.altdata import get_social_sentiment\n",
    "get_social_sentiment(\"AAPL\")"
   ]
  },
  {
   "cell_type": "code",
   "execution_count": null,
   "metadata": {},
   "outputs": [],
   "source": []
  }
 ]
}